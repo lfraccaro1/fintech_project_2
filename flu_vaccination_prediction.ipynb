{
 "cells": [
  {
   "cell_type": "markdown",
   "id": "4d302fa6-142b-4a37-af40-6ec4e59b3dd1",
   "metadata": {
    "tags": []
   },
   "source": [
    "# Seasonal flu vaccines\n",
    "This exericse predicts whether individuals will receive their seasonal flu vaccines by fitting machine learning models to the U.S. National 2009 H1N1 Flu Survey data. Data is provided courtesy of the United States National Center for Health Statistics to DrivenData for a practice competition (https://www.drivendata.org/competitions/66/flu-shot-learning/)."
   ]
  },
  {
   "cell_type": "code",
   "execution_count": 1,
   "id": "1f475bcb-6bc5-46f4-857c-44f2b7fb7fda",
   "metadata": {},
   "outputs": [],
   "source": [
    "#import libraries\n",
    "import pandas as pd\n",
    "import numpy as np\n",
    "import matplotlib.pyplot as plt\n",
    "import seaborn as sns\n",
    "\n",
    "from scipy.stats import randint\n",
    "\n",
    "#data preprocessing\n",
    "from sklearn.impute import SimpleImputer\n",
    "from sklearn.preprocessing import StandardScaler, OneHotEncoder\n",
    "\n",
    "#model selection/ tuning\n",
    "from sklearn.model_selection import train_test_split, RandomizedSearchCV, GridSearchCV\n",
    "\n",
    "#random forest classifier\n",
    "from sklearn.ensemble import RandomForestClassifier\n",
    "\n",
    "#deep learning model\n",
    "import tensorflow as tf\n",
    "from tensorflow.keras.layers import Dense\n",
    "from tensorflow.keras.models import Sequential\n",
    "\n",
    "#performance metrics\n",
    "from sklearn.metrics import accuracy_score, classification_report, roc_curve, roc_auc_score"
   ]
  },
  {
   "cell_type": "code",
   "execution_count": 2,
   "id": "2f42718a-2ab4-42b6-8f18-917728e822b8",
   "metadata": {},
   "outputs": [],
   "source": [
    "#suppress warnings\n",
    "import warnings\n",
    "warnings.filterwarnings('ignore')"
   ]
  },
  {
   "cell_type": "markdown",
   "id": "6d12b6ba-4a96-408d-b531-34162e37dfcf",
   "metadata": {
    "tags": []
   },
   "source": [
    "## Data checking and cleaning\n",
    "In this section, read the csv files into pandas Dataframe and perform any necessary checking and cleaning steps. "
   ]
  },
  {
   "cell_type": "code",
   "execution_count": 3,
   "id": "1fef6eb2-c36c-491e-8fdd-aea483a1c0fa",
   "metadata": {},
   "outputs": [
    {
     "data": {
      "text/html": [
       "<div>\n",
       "<style scoped>\n",
       "    .dataframe tbody tr th:only-of-type {\n",
       "        vertical-align: middle;\n",
       "    }\n",
       "\n",
       "    .dataframe tbody tr th {\n",
       "        vertical-align: top;\n",
       "    }\n",
       "\n",
       "    .dataframe thead th {\n",
       "        text-align: right;\n",
       "    }\n",
       "</style>\n",
       "<table border=\"1\" class=\"dataframe\">\n",
       "  <thead>\n",
       "    <tr style=\"text-align: right;\">\n",
       "      <th></th>\n",
       "      <th>h1n1_vaccine</th>\n",
       "      <th>seasonal_vaccine</th>\n",
       "    </tr>\n",
       "    <tr>\n",
       "      <th>respondent_id</th>\n",
       "      <th></th>\n",
       "      <th></th>\n",
       "    </tr>\n",
       "  </thead>\n",
       "  <tbody>\n",
       "    <tr>\n",
       "      <th>0</th>\n",
       "      <td>0</td>\n",
       "      <td>0</td>\n",
       "    </tr>\n",
       "    <tr>\n",
       "      <th>1</th>\n",
       "      <td>0</td>\n",
       "      <td>1</td>\n",
       "    </tr>\n",
       "    <tr>\n",
       "      <th>2</th>\n",
       "      <td>0</td>\n",
       "      <td>0</td>\n",
       "    </tr>\n",
       "  </tbody>\n",
       "</table>\n",
       "</div>"
      ],
      "text/plain": [
       "               h1n1_vaccine  seasonal_vaccine\n",
       "respondent_id                                \n",
       "0                         0                 0\n",
       "1                         0                 1\n",
       "2                         0                 0"
      ]
     },
     "execution_count": 3,
     "metadata": {},
     "output_type": "execute_result"
    }
   ],
   "source": [
    "#reading training_set_labels \n",
    "df_labels = pd.read_csv(\"./Resources/training_set_labels.csv\", index_col = \"respondent_id\")\n",
    "df_labels.head(3)"
   ]
  },
  {
   "cell_type": "code",
   "execution_count": 4,
   "id": "80488bd8-3ae1-4bcb-9f97-3968aeb068df",
   "metadata": {},
   "outputs": [
    {
     "data": {
      "text/html": [
       "<div>\n",
       "<style scoped>\n",
       "    .dataframe tbody tr th:only-of-type {\n",
       "        vertical-align: middle;\n",
       "    }\n",
       "\n",
       "    .dataframe tbody tr th {\n",
       "        vertical-align: top;\n",
       "    }\n",
       "\n",
       "    .dataframe thead th {\n",
       "        text-align: right;\n",
       "    }\n",
       "</style>\n",
       "<table border=\"1\" class=\"dataframe\">\n",
       "  <thead>\n",
       "    <tr style=\"text-align: right;\">\n",
       "      <th></th>\n",
       "      <th>h1n1_concern</th>\n",
       "      <th>h1n1_knowledge</th>\n",
       "      <th>behavioral_antiviral_meds</th>\n",
       "      <th>behavioral_avoidance</th>\n",
       "      <th>behavioral_face_mask</th>\n",
       "      <th>behavioral_wash_hands</th>\n",
       "      <th>behavioral_large_gatherings</th>\n",
       "      <th>behavioral_outside_home</th>\n",
       "      <th>behavioral_touch_face</th>\n",
       "      <th>doctor_recc_h1n1</th>\n",
       "      <th>...</th>\n",
       "      <th>income_poverty</th>\n",
       "      <th>marital_status</th>\n",
       "      <th>rent_or_own</th>\n",
       "      <th>employment_status</th>\n",
       "      <th>hhs_geo_region</th>\n",
       "      <th>census_msa</th>\n",
       "      <th>household_adults</th>\n",
       "      <th>household_children</th>\n",
       "      <th>employment_industry</th>\n",
       "      <th>employment_occupation</th>\n",
       "    </tr>\n",
       "    <tr>\n",
       "      <th>respondent_id</th>\n",
       "      <th></th>\n",
       "      <th></th>\n",
       "      <th></th>\n",
       "      <th></th>\n",
       "      <th></th>\n",
       "      <th></th>\n",
       "      <th></th>\n",
       "      <th></th>\n",
       "      <th></th>\n",
       "      <th></th>\n",
       "      <th></th>\n",
       "      <th></th>\n",
       "      <th></th>\n",
       "      <th></th>\n",
       "      <th></th>\n",
       "      <th></th>\n",
       "      <th></th>\n",
       "      <th></th>\n",
       "      <th></th>\n",
       "      <th></th>\n",
       "      <th></th>\n",
       "    </tr>\n",
       "  </thead>\n",
       "  <tbody>\n",
       "    <tr>\n",
       "      <th>0</th>\n",
       "      <td>1.0</td>\n",
       "      <td>0.0</td>\n",
       "      <td>0.0</td>\n",
       "      <td>0.0</td>\n",
       "      <td>0.0</td>\n",
       "      <td>0.0</td>\n",
       "      <td>0.0</td>\n",
       "      <td>1.0</td>\n",
       "      <td>1.0</td>\n",
       "      <td>0.0</td>\n",
       "      <td>...</td>\n",
       "      <td>Below Poverty</td>\n",
       "      <td>Not Married</td>\n",
       "      <td>Own</td>\n",
       "      <td>Not in Labor Force</td>\n",
       "      <td>oxchjgsf</td>\n",
       "      <td>Non-MSA</td>\n",
       "      <td>0.0</td>\n",
       "      <td>0.0</td>\n",
       "      <td>NaN</td>\n",
       "      <td>NaN</td>\n",
       "    </tr>\n",
       "    <tr>\n",
       "      <th>1</th>\n",
       "      <td>3.0</td>\n",
       "      <td>2.0</td>\n",
       "      <td>0.0</td>\n",
       "      <td>1.0</td>\n",
       "      <td>0.0</td>\n",
       "      <td>1.0</td>\n",
       "      <td>0.0</td>\n",
       "      <td>1.0</td>\n",
       "      <td>1.0</td>\n",
       "      <td>0.0</td>\n",
       "      <td>...</td>\n",
       "      <td>Below Poverty</td>\n",
       "      <td>Not Married</td>\n",
       "      <td>Rent</td>\n",
       "      <td>Employed</td>\n",
       "      <td>bhuqouqj</td>\n",
       "      <td>MSA, Not Principle  City</td>\n",
       "      <td>0.0</td>\n",
       "      <td>0.0</td>\n",
       "      <td>pxcmvdjn</td>\n",
       "      <td>xgwztkwe</td>\n",
       "    </tr>\n",
       "    <tr>\n",
       "      <th>2</th>\n",
       "      <td>1.0</td>\n",
       "      <td>1.0</td>\n",
       "      <td>0.0</td>\n",
       "      <td>1.0</td>\n",
       "      <td>0.0</td>\n",
       "      <td>0.0</td>\n",
       "      <td>0.0</td>\n",
       "      <td>0.0</td>\n",
       "      <td>0.0</td>\n",
       "      <td>NaN</td>\n",
       "      <td>...</td>\n",
       "      <td>&lt;= $75,000, Above Poverty</td>\n",
       "      <td>Not Married</td>\n",
       "      <td>Own</td>\n",
       "      <td>Employed</td>\n",
       "      <td>qufhixun</td>\n",
       "      <td>MSA, Not Principle  City</td>\n",
       "      <td>2.0</td>\n",
       "      <td>0.0</td>\n",
       "      <td>rucpziij</td>\n",
       "      <td>xtkaffoo</td>\n",
       "    </tr>\n",
       "  </tbody>\n",
       "</table>\n",
       "<p>3 rows × 35 columns</p>\n",
       "</div>"
      ],
      "text/plain": [
       "               h1n1_concern  h1n1_knowledge  behavioral_antiviral_meds  \\\n",
       "respondent_id                                                            \n",
       "0                       1.0             0.0                        0.0   \n",
       "1                       3.0             2.0                        0.0   \n",
       "2                       1.0             1.0                        0.0   \n",
       "\n",
       "               behavioral_avoidance  behavioral_face_mask  \\\n",
       "respondent_id                                               \n",
       "0                               0.0                   0.0   \n",
       "1                               1.0                   0.0   \n",
       "2                               1.0                   0.0   \n",
       "\n",
       "               behavioral_wash_hands  behavioral_large_gatherings  \\\n",
       "respondent_id                                                       \n",
       "0                                0.0                          0.0   \n",
       "1                                1.0                          0.0   \n",
       "2                                0.0                          0.0   \n",
       "\n",
       "               behavioral_outside_home  behavioral_touch_face  \\\n",
       "respondent_id                                                   \n",
       "0                                  1.0                    1.0   \n",
       "1                                  1.0                    1.0   \n",
       "2                                  0.0                    0.0   \n",
       "\n",
       "               doctor_recc_h1n1  ...             income_poverty  \\\n",
       "respondent_id                    ...                              \n",
       "0                           0.0  ...              Below Poverty   \n",
       "1                           0.0  ...              Below Poverty   \n",
       "2                           NaN  ...  <= $75,000, Above Poverty   \n",
       "\n",
       "               marital_status  rent_or_own   employment_status  \\\n",
       "respondent_id                                                    \n",
       "0                 Not Married          Own  Not in Labor Force   \n",
       "1                 Not Married         Rent            Employed   \n",
       "2                 Not Married          Own            Employed   \n",
       "\n",
       "               hhs_geo_region                census_msa  household_adults  \\\n",
       "respondent_id                                                               \n",
       "0                    oxchjgsf                   Non-MSA               0.0   \n",
       "1                    bhuqouqj  MSA, Not Principle  City               0.0   \n",
       "2                    qufhixun  MSA, Not Principle  City               2.0   \n",
       "\n",
       "               household_children  employment_industry  employment_occupation  \n",
       "respondent_id                                                                  \n",
       "0                             0.0                  NaN                    NaN  \n",
       "1                             0.0             pxcmvdjn               xgwztkwe  \n",
       "2                             0.0             rucpziij               xtkaffoo  \n",
       "\n",
       "[3 rows x 35 columns]"
      ]
     },
     "execution_count": 4,
     "metadata": {},
     "output_type": "execute_result"
    }
   ],
   "source": [
    "#reading training_set_features\n",
    "df_features = pd.read_csv(\"./Resources/training_set_features.csv\", index_col = \"respondent_id\")\n",
    "df_features.head(3)"
   ]
  },
  {
   "cell_type": "code",
   "execution_count": 5,
   "id": "b35fc6d7-fc60-431a-809a-c8d608512ddc",
   "metadata": {},
   "outputs": [
    {
     "data": {
      "text/html": [
       "<div>\n",
       "<style scoped>\n",
       "    .dataframe tbody tr th:only-of-type {\n",
       "        vertical-align: middle;\n",
       "    }\n",
       "\n",
       "    .dataframe tbody tr th {\n",
       "        vertical-align: top;\n",
       "    }\n",
       "\n",
       "    .dataframe thead th {\n",
       "        text-align: right;\n",
       "    }\n",
       "</style>\n",
       "<table border=\"1\" class=\"dataframe\">\n",
       "  <thead>\n",
       "    <tr style=\"text-align: right;\">\n",
       "      <th></th>\n",
       "      <th>h1n1_vaccine</th>\n",
       "      <th>seasonal_vaccine</th>\n",
       "      <th>h1n1_concern</th>\n",
       "      <th>h1n1_knowledge</th>\n",
       "      <th>behavioral_antiviral_meds</th>\n",
       "      <th>behavioral_avoidance</th>\n",
       "      <th>behavioral_face_mask</th>\n",
       "      <th>behavioral_wash_hands</th>\n",
       "      <th>behavioral_large_gatherings</th>\n",
       "      <th>behavioral_outside_home</th>\n",
       "      <th>...</th>\n",
       "      <th>income_poverty</th>\n",
       "      <th>marital_status</th>\n",
       "      <th>rent_or_own</th>\n",
       "      <th>employment_status</th>\n",
       "      <th>hhs_geo_region</th>\n",
       "      <th>census_msa</th>\n",
       "      <th>household_adults</th>\n",
       "      <th>household_children</th>\n",
       "      <th>employment_industry</th>\n",
       "      <th>employment_occupation</th>\n",
       "    </tr>\n",
       "    <tr>\n",
       "      <th>respondent_id</th>\n",
       "      <th></th>\n",
       "      <th></th>\n",
       "      <th></th>\n",
       "      <th></th>\n",
       "      <th></th>\n",
       "      <th></th>\n",
       "      <th></th>\n",
       "      <th></th>\n",
       "      <th></th>\n",
       "      <th></th>\n",
       "      <th></th>\n",
       "      <th></th>\n",
       "      <th></th>\n",
       "      <th></th>\n",
       "      <th></th>\n",
       "      <th></th>\n",
       "      <th></th>\n",
       "      <th></th>\n",
       "      <th></th>\n",
       "      <th></th>\n",
       "      <th></th>\n",
       "    </tr>\n",
       "  </thead>\n",
       "  <tbody>\n",
       "    <tr>\n",
       "      <th>0</th>\n",
       "      <td>0</td>\n",
       "      <td>0</td>\n",
       "      <td>1.0</td>\n",
       "      <td>0.0</td>\n",
       "      <td>0.0</td>\n",
       "      <td>0.0</td>\n",
       "      <td>0.0</td>\n",
       "      <td>0.0</td>\n",
       "      <td>0.0</td>\n",
       "      <td>1.0</td>\n",
       "      <td>...</td>\n",
       "      <td>Below Poverty</td>\n",
       "      <td>Not Married</td>\n",
       "      <td>Own</td>\n",
       "      <td>Not in Labor Force</td>\n",
       "      <td>oxchjgsf</td>\n",
       "      <td>Non-MSA</td>\n",
       "      <td>0.0</td>\n",
       "      <td>0.0</td>\n",
       "      <td>NaN</td>\n",
       "      <td>NaN</td>\n",
       "    </tr>\n",
       "    <tr>\n",
       "      <th>1</th>\n",
       "      <td>0</td>\n",
       "      <td>1</td>\n",
       "      <td>3.0</td>\n",
       "      <td>2.0</td>\n",
       "      <td>0.0</td>\n",
       "      <td>1.0</td>\n",
       "      <td>0.0</td>\n",
       "      <td>1.0</td>\n",
       "      <td>0.0</td>\n",
       "      <td>1.0</td>\n",
       "      <td>...</td>\n",
       "      <td>Below Poverty</td>\n",
       "      <td>Not Married</td>\n",
       "      <td>Rent</td>\n",
       "      <td>Employed</td>\n",
       "      <td>bhuqouqj</td>\n",
       "      <td>MSA, Not Principle  City</td>\n",
       "      <td>0.0</td>\n",
       "      <td>0.0</td>\n",
       "      <td>pxcmvdjn</td>\n",
       "      <td>xgwztkwe</td>\n",
       "    </tr>\n",
       "    <tr>\n",
       "      <th>2</th>\n",
       "      <td>0</td>\n",
       "      <td>0</td>\n",
       "      <td>1.0</td>\n",
       "      <td>1.0</td>\n",
       "      <td>0.0</td>\n",
       "      <td>1.0</td>\n",
       "      <td>0.0</td>\n",
       "      <td>0.0</td>\n",
       "      <td>0.0</td>\n",
       "      <td>0.0</td>\n",
       "      <td>...</td>\n",
       "      <td>&lt;= $75,000, Above Poverty</td>\n",
       "      <td>Not Married</td>\n",
       "      <td>Own</td>\n",
       "      <td>Employed</td>\n",
       "      <td>qufhixun</td>\n",
       "      <td>MSA, Not Principle  City</td>\n",
       "      <td>2.0</td>\n",
       "      <td>0.0</td>\n",
       "      <td>rucpziij</td>\n",
       "      <td>xtkaffoo</td>\n",
       "    </tr>\n",
       "  </tbody>\n",
       "</table>\n",
       "<p>3 rows × 37 columns</p>\n",
       "</div>"
      ],
      "text/plain": [
       "               h1n1_vaccine  seasonal_vaccine  h1n1_concern  h1n1_knowledge  \\\n",
       "respondent_id                                                                 \n",
       "0                         0                 0           1.0             0.0   \n",
       "1                         0                 1           3.0             2.0   \n",
       "2                         0                 0           1.0             1.0   \n",
       "\n",
       "               behavioral_antiviral_meds  behavioral_avoidance  \\\n",
       "respondent_id                                                    \n",
       "0                                    0.0                   0.0   \n",
       "1                                    0.0                   1.0   \n",
       "2                                    0.0                   1.0   \n",
       "\n",
       "               behavioral_face_mask  behavioral_wash_hands  \\\n",
       "respondent_id                                                \n",
       "0                               0.0                    0.0   \n",
       "1                               0.0                    1.0   \n",
       "2                               0.0                    0.0   \n",
       "\n",
       "               behavioral_large_gatherings  behavioral_outside_home  ...  \\\n",
       "respondent_id                                                        ...   \n",
       "0                                      0.0                      1.0  ...   \n",
       "1                                      0.0                      1.0  ...   \n",
       "2                                      0.0                      0.0  ...   \n",
       "\n",
       "                          income_poverty  marital_status  rent_or_own  \\\n",
       "respondent_id                                                           \n",
       "0                          Below Poverty     Not Married          Own   \n",
       "1                          Below Poverty     Not Married         Rent   \n",
       "2              <= $75,000, Above Poverty     Not Married          Own   \n",
       "\n",
       "                employment_status  hhs_geo_region                census_msa  \\\n",
       "respondent_id                                                                 \n",
       "0              Not in Labor Force        oxchjgsf                   Non-MSA   \n",
       "1                        Employed        bhuqouqj  MSA, Not Principle  City   \n",
       "2                        Employed        qufhixun  MSA, Not Principle  City   \n",
       "\n",
       "               household_adults  household_children  employment_industry  \\\n",
       "respondent_id                                                              \n",
       "0                           0.0                 0.0                  NaN   \n",
       "1                           0.0                 0.0             pxcmvdjn   \n",
       "2                           2.0                 0.0             rucpziij   \n",
       "\n",
       "               employment_occupation  \n",
       "respondent_id                         \n",
       "0                                NaN  \n",
       "1                           xgwztkwe  \n",
       "2                           xtkaffoo  \n",
       "\n",
       "[3 rows x 37 columns]"
      ]
     },
     "execution_count": 5,
     "metadata": {},
     "output_type": "execute_result"
    }
   ],
   "source": [
    "#combine both dataframes into a single dataframe\n",
    "df_vaccine = pd.concat([df_labels,df_features],axis = 1)\n",
    "df_vaccine.head(3)"
   ]
  },
  {
   "cell_type": "code",
   "execution_count": 6,
   "id": "0dec164b-bb89-414e-b24a-798c66cecdad",
   "metadata": {},
   "outputs": [
    {
     "data": {
      "text/plain": [
       "Index(['h1n1_vaccine', 'h1n1_concern', 'h1n1_knowledge', 'doctor_recc_h1n1',\n",
       "       'opinion_h1n1_vacc_effective', 'opinion_h1n1_risk',\n",
       "       'opinion_h1n1_sick_from_vacc'],\n",
       "      dtype='object')"
      ]
     },
     "metadata": {},
     "output_type": "display_data"
    }
   ],
   "source": [
    "#identify h1n1 specific columns\n",
    "h1n1 = df_vaccine.filter(like = \"h1n1\").columns\n",
    "display(h1n1)\n",
    "\n",
    "#drop h1n1 specific data\n",
    "df_vaccine.drop(columns = h1n1, inplace = True)"
   ]
  },
  {
   "cell_type": "code",
   "execution_count": 7,
   "id": "57589cb1-6e3e-43c2-a32a-139c3ff5128e",
   "metadata": {},
   "outputs": [
    {
     "data": {
      "text/plain": [
       "seasonal_vaccine                   0\n",
       "behavioral_antiviral_meds         71\n",
       "behavioral_avoidance             208\n",
       "behavioral_face_mask              19\n",
       "behavioral_wash_hands             42\n",
       "behavioral_large_gatherings       87\n",
       "behavioral_outside_home           82\n",
       "behavioral_touch_face            128\n",
       "doctor_recc_seasonal            2160\n",
       "chronic_med_condition            971\n",
       "child_under_6_months             820\n",
       "health_worker                    804\n",
       "health_insurance               12274\n",
       "opinion_seas_vacc_effective      462\n",
       "opinion_seas_risk                514\n",
       "opinion_seas_sick_from_vacc      537\n",
       "age_group                          0\n",
       "education                       1407\n",
       "race                               0\n",
       "sex                                0\n",
       "income_poverty                  4423\n",
       "marital_status                  1408\n",
       "rent_or_own                     2042\n",
       "employment_status               1463\n",
       "hhs_geo_region                     0\n",
       "census_msa                         0\n",
       "household_adults                 249\n",
       "household_children               249\n",
       "employment_industry            13330\n",
       "employment_occupation          13470\n",
       "dtype: int64"
      ]
     },
     "execution_count": 7,
     "metadata": {},
     "output_type": "execute_result"
    }
   ],
   "source": [
    "#check for missing values\n",
    "df_vaccine.isnull().sum()"
   ]
  },
  {
   "cell_type": "code",
   "execution_count": 8,
   "id": "97687ce8-fbda-43fb-88b2-0121b909f02d",
   "metadata": {},
   "outputs": [],
   "source": [
    "#drop columns with more than 40% missing value\n",
    "df_vaccine.drop(columns = [\"health_insurance\",\"employment_industry\",\"employment_occupation\"], inplace= True)"
   ]
  },
  {
   "cell_type": "markdown",
   "id": "5c930aca-e9a1-4850-87a8-25d114b4fa2b",
   "metadata": {},
   "source": [
    "## Exploring the data"
   ]
  },
  {
   "cell_type": "code",
   "execution_count": 9,
   "id": "05090b8e-d7ec-4358-81e5-e3a55283f925",
   "metadata": {},
   "outputs": [
    {
     "data": {
      "text/plain": [
       "0    14272\n",
       "1    12435\n",
       "Name: seasonal_vaccine, dtype: int64"
      ]
     },
     "execution_count": 9,
     "metadata": {},
     "output_type": "execute_result"
    }
   ],
   "source": [
    "#check if seasonal_vaccine has imbalanced classes\n",
    "df_vaccine[\"seasonal_vaccine\"].value_counts()"
   ]
  },
  {
   "cell_type": "markdown",
   "id": "1c4a3451-5f9b-447f-80b9-15d4bff3c14f",
   "metadata": {},
   "source": [
    "Seasonal_vaccine has balanced class."
   ]
  },
  {
   "cell_type": "code",
   "execution_count": null,
   "id": "40b333b3-8600-45b5-ac7e-be08537b6bf0",
   "metadata": {},
   "outputs": [],
   "source": []
  },
  {
   "cell_type": "markdown",
   "id": "9bd54884-6921-41f9-8667-aa40398e0d35",
   "metadata": {
    "tags": []
   },
   "source": [
    "## Data Preprocessing\n",
    "**Review the DataFrame, looking for categorical variables that will need to be encoded, as well as columns that could eventually define your features and target variables.**"
   ]
  },
  {
   "cell_type": "code",
   "execution_count": 10,
   "id": "802bdaf9-bdd3-4c6b-89b1-c4dae84c38bc",
   "metadata": {},
   "outputs": [
    {
     "name": "stdout",
     "output_type": "stream",
     "text": [
      "<class 'pandas.core.frame.DataFrame'>\n",
      "Int64Index: 26707 entries, 0 to 26706\n",
      "Data columns (total 27 columns):\n",
      " #   Column                       Non-Null Count  Dtype  \n",
      "---  ------                       --------------  -----  \n",
      " 0   seasonal_vaccine             26707 non-null  int64  \n",
      " 1   behavioral_antiviral_meds    26636 non-null  float64\n",
      " 2   behavioral_avoidance         26499 non-null  float64\n",
      " 3   behavioral_face_mask         26688 non-null  float64\n",
      " 4   behavioral_wash_hands        26665 non-null  float64\n",
      " 5   behavioral_large_gatherings  26620 non-null  float64\n",
      " 6   behavioral_outside_home      26625 non-null  float64\n",
      " 7   behavioral_touch_face        26579 non-null  float64\n",
      " 8   doctor_recc_seasonal         24547 non-null  float64\n",
      " 9   chronic_med_condition        25736 non-null  float64\n",
      " 10  child_under_6_months         25887 non-null  float64\n",
      " 11  health_worker                25903 non-null  float64\n",
      " 12  opinion_seas_vacc_effective  26245 non-null  float64\n",
      " 13  opinion_seas_risk            26193 non-null  float64\n",
      " 14  opinion_seas_sick_from_vacc  26170 non-null  float64\n",
      " 15  age_group                    26707 non-null  object \n",
      " 16  education                    25300 non-null  object \n",
      " 17  race                         26707 non-null  object \n",
      " 18  sex                          26707 non-null  object \n",
      " 19  income_poverty               22284 non-null  object \n",
      " 20  marital_status               25299 non-null  object \n",
      " 21  rent_or_own                  24665 non-null  object \n",
      " 22  employment_status            25244 non-null  object \n",
      " 23  hhs_geo_region               26707 non-null  object \n",
      " 24  census_msa                   26707 non-null  object \n",
      " 25  household_adults             26458 non-null  float64\n",
      " 26  household_children           26458 non-null  float64\n",
      "dtypes: float64(16), int64(1), object(10)\n",
      "memory usage: 5.7+ MB\n"
     ]
    }
   ],
   "source": [
    "#review datatype\n",
    "df_vaccine.info()"
   ]
  },
  {
   "cell_type": "code",
   "execution_count": 11,
   "id": "65d5c155-d886-4ebe-902c-a98be4e5b705",
   "metadata": {},
   "outputs": [
    {
     "data": {
      "text/html": [
       "<div>\n",
       "<style scoped>\n",
       "    .dataframe tbody tr th:only-of-type {\n",
       "        vertical-align: middle;\n",
       "    }\n",
       "\n",
       "    .dataframe tbody tr th {\n",
       "        vertical-align: top;\n",
       "    }\n",
       "\n",
       "    .dataframe thead th {\n",
       "        text-align: right;\n",
       "    }\n",
       "</style>\n",
       "<table border=\"1\" class=\"dataframe\">\n",
       "  <thead>\n",
       "    <tr style=\"text-align: right;\">\n",
       "      <th></th>\n",
       "      <th>behavioral_antiviral_meds</th>\n",
       "      <th>behavioral_avoidance</th>\n",
       "      <th>behavioral_face_mask</th>\n",
       "      <th>behavioral_wash_hands</th>\n",
       "      <th>behavioral_large_gatherings</th>\n",
       "      <th>behavioral_outside_home</th>\n",
       "      <th>behavioral_touch_face</th>\n",
       "      <th>doctor_recc_seasonal</th>\n",
       "      <th>chronic_med_condition</th>\n",
       "      <th>child_under_6_months</th>\n",
       "      <th>...</th>\n",
       "      <th>race</th>\n",
       "      <th>sex</th>\n",
       "      <th>income_poverty</th>\n",
       "      <th>marital_status</th>\n",
       "      <th>rent_or_own</th>\n",
       "      <th>employment_status</th>\n",
       "      <th>hhs_geo_region</th>\n",
       "      <th>census_msa</th>\n",
       "      <th>household_adults</th>\n",
       "      <th>household_children</th>\n",
       "    </tr>\n",
       "    <tr>\n",
       "      <th>respondent_id</th>\n",
       "      <th></th>\n",
       "      <th></th>\n",
       "      <th></th>\n",
       "      <th></th>\n",
       "      <th></th>\n",
       "      <th></th>\n",
       "      <th></th>\n",
       "      <th></th>\n",
       "      <th></th>\n",
       "      <th></th>\n",
       "      <th></th>\n",
       "      <th></th>\n",
       "      <th></th>\n",
       "      <th></th>\n",
       "      <th></th>\n",
       "      <th></th>\n",
       "      <th></th>\n",
       "      <th></th>\n",
       "      <th></th>\n",
       "      <th></th>\n",
       "      <th></th>\n",
       "    </tr>\n",
       "  </thead>\n",
       "  <tbody>\n",
       "    <tr>\n",
       "      <th>0</th>\n",
       "      <td>0.0</td>\n",
       "      <td>0.0</td>\n",
       "      <td>0.0</td>\n",
       "      <td>0.0</td>\n",
       "      <td>0.0</td>\n",
       "      <td>1.0</td>\n",
       "      <td>1.0</td>\n",
       "      <td>0.0</td>\n",
       "      <td>0.0</td>\n",
       "      <td>0.0</td>\n",
       "      <td>...</td>\n",
       "      <td>White</td>\n",
       "      <td>Female</td>\n",
       "      <td>Below Poverty</td>\n",
       "      <td>Not Married</td>\n",
       "      <td>Own</td>\n",
       "      <td>Not in Labor Force</td>\n",
       "      <td>oxchjgsf</td>\n",
       "      <td>Non-MSA</td>\n",
       "      <td>0.0</td>\n",
       "      <td>0.0</td>\n",
       "    </tr>\n",
       "    <tr>\n",
       "      <th>1</th>\n",
       "      <td>0.0</td>\n",
       "      <td>1.0</td>\n",
       "      <td>0.0</td>\n",
       "      <td>1.0</td>\n",
       "      <td>0.0</td>\n",
       "      <td>1.0</td>\n",
       "      <td>1.0</td>\n",
       "      <td>0.0</td>\n",
       "      <td>0.0</td>\n",
       "      <td>0.0</td>\n",
       "      <td>...</td>\n",
       "      <td>White</td>\n",
       "      <td>Male</td>\n",
       "      <td>Below Poverty</td>\n",
       "      <td>Not Married</td>\n",
       "      <td>Rent</td>\n",
       "      <td>Employed</td>\n",
       "      <td>bhuqouqj</td>\n",
       "      <td>MSA, Not Principle  City</td>\n",
       "      <td>0.0</td>\n",
       "      <td>0.0</td>\n",
       "    </tr>\n",
       "    <tr>\n",
       "      <th>2</th>\n",
       "      <td>0.0</td>\n",
       "      <td>1.0</td>\n",
       "      <td>0.0</td>\n",
       "      <td>0.0</td>\n",
       "      <td>0.0</td>\n",
       "      <td>0.0</td>\n",
       "      <td>0.0</td>\n",
       "      <td>NaN</td>\n",
       "      <td>1.0</td>\n",
       "      <td>0.0</td>\n",
       "      <td>...</td>\n",
       "      <td>White</td>\n",
       "      <td>Male</td>\n",
       "      <td>&lt;= $75,000, Above Poverty</td>\n",
       "      <td>Not Married</td>\n",
       "      <td>Own</td>\n",
       "      <td>Employed</td>\n",
       "      <td>qufhixun</td>\n",
       "      <td>MSA, Not Principle  City</td>\n",
       "      <td>2.0</td>\n",
       "      <td>0.0</td>\n",
       "    </tr>\n",
       "  </tbody>\n",
       "</table>\n",
       "<p>3 rows × 26 columns</p>\n",
       "</div>"
      ],
      "text/plain": [
       "               behavioral_antiviral_meds  behavioral_avoidance  \\\n",
       "respondent_id                                                    \n",
       "0                                    0.0                   0.0   \n",
       "1                                    0.0                   1.0   \n",
       "2                                    0.0                   1.0   \n",
       "\n",
       "               behavioral_face_mask  behavioral_wash_hands  \\\n",
       "respondent_id                                                \n",
       "0                               0.0                    0.0   \n",
       "1                               0.0                    1.0   \n",
       "2                               0.0                    0.0   \n",
       "\n",
       "               behavioral_large_gatherings  behavioral_outside_home  \\\n",
       "respondent_id                                                         \n",
       "0                                      0.0                      1.0   \n",
       "1                                      0.0                      1.0   \n",
       "2                                      0.0                      0.0   \n",
       "\n",
       "               behavioral_touch_face  doctor_recc_seasonal  \\\n",
       "respondent_id                                                \n",
       "0                                1.0                   0.0   \n",
       "1                                1.0                   0.0   \n",
       "2                                0.0                   NaN   \n",
       "\n",
       "               chronic_med_condition  child_under_6_months  ...   race  \\\n",
       "respondent_id                                               ...          \n",
       "0                                0.0                   0.0  ...  White   \n",
       "1                                0.0                   0.0  ...  White   \n",
       "2                                1.0                   0.0  ...  White   \n",
       "\n",
       "                  sex             income_poverty  marital_status rent_or_own  \\\n",
       "respondent_id                                                                  \n",
       "0              Female              Below Poverty     Not Married         Own   \n",
       "1                Male              Below Poverty     Not Married        Rent   \n",
       "2                Male  <= $75,000, Above Poverty     Not Married         Own   \n",
       "\n",
       "                employment_status hhs_geo_region                census_msa  \\\n",
       "respondent_id                                                                \n",
       "0              Not in Labor Force       oxchjgsf                   Non-MSA   \n",
       "1                        Employed       bhuqouqj  MSA, Not Principle  City   \n",
       "2                        Employed       qufhixun  MSA, Not Principle  City   \n",
       "\n",
       "              household_adults household_children  \n",
       "respondent_id                                      \n",
       "0                          0.0                0.0  \n",
       "1                          0.0                0.0  \n",
       "2                          2.0                0.0  \n",
       "\n",
       "[3 rows x 26 columns]"
      ]
     },
     "execution_count": 11,
     "metadata": {},
     "output_type": "execute_result"
    }
   ],
   "source": [
    "df_features = df_vaccine.drop(columns = [\"seasonal_vaccine\"]).copy()\n",
    "df_features.head(3)"
   ]
  },
  {
   "cell_type": "code",
   "execution_count": 12,
   "id": "75142b68-fe0b-4620-ab7b-f03cf12c922d",
   "metadata": {},
   "outputs": [
    {
     "data": {
      "text/plain": [
       "['behavioral_antiviral_meds',\n",
       " 'behavioral_avoidance',\n",
       " 'behavioral_face_mask',\n",
       " 'behavioral_wash_hands',\n",
       " 'behavioral_large_gatherings',\n",
       " 'behavioral_outside_home',\n",
       " 'behavioral_touch_face',\n",
       " 'doctor_recc_seasonal',\n",
       " 'chronic_med_condition',\n",
       " 'child_under_6_months',\n",
       " 'health_worker',\n",
       " 'opinion_seas_vacc_effective',\n",
       " 'opinion_seas_risk',\n",
       " 'opinion_seas_sick_from_vacc',\n",
       " 'household_adults',\n",
       " 'household_children']"
      ]
     },
     "execution_count": 12,
     "metadata": {},
     "output_type": "execute_result"
    }
   ],
   "source": [
    "# Create and display the list of numerical variables \n",
    "numerical_variables = list(df_features.dtypes[df_features.dtypes != \"object\"].index)\n",
    "numerical_variables"
   ]
  },
  {
   "cell_type": "code",
   "execution_count": 13,
   "id": "24fe41d7-57e5-4c20-adfc-5b2b03056dab",
   "metadata": {},
   "outputs": [
    {
     "data": {
      "text/plain": [
       "['age_group',\n",
       " 'education',\n",
       " 'race',\n",
       " 'sex',\n",
       " 'income_poverty',\n",
       " 'marital_status',\n",
       " 'rent_or_own',\n",
       " 'employment_status',\n",
       " 'hhs_geo_region',\n",
       " 'census_msa']"
      ]
     },
     "execution_count": 13,
     "metadata": {},
     "output_type": "execute_result"
    }
   ],
   "source": [
    "# Create a list of categorical variables \n",
    "categorical_variables = list(df_features.dtypes[df_features.dtypes == \"object\"].index)\n",
    "\n",
    "# Display the categorical variables list\n",
    "categorical_variables"
   ]
  },
  {
   "cell_type": "markdown",
   "id": "f48f961a-31e2-48b5-8c0e-3d4d4b41ae7d",
   "metadata": {},
   "source": [
    "**Replacing missing values with most frequent value**"
   ]
  },
  {
   "cell_type": "code",
   "execution_count": 14,
   "id": "6ee56d1a-db52-4f2c-b806-2b8d39791e66",
   "metadata": {},
   "outputs": [],
   "source": [
    "#define strategy for replacing missing values\n",
    "imp_mostfreq = SimpleImputer(strategy = \"most_frequent\", missing_values = np.nan)"
   ]
  },
  {
   "cell_type": "code",
   "execution_count": 15,
   "id": "c3caaa29-a0fc-4bdd-8380-6f333a09859e",
   "metadata": {},
   "outputs": [
    {
     "data": {
      "text/html": [
       "<div>\n",
       "<style scoped>\n",
       "    .dataframe tbody tr th:only-of-type {\n",
       "        vertical-align: middle;\n",
       "    }\n",
       "\n",
       "    .dataframe tbody tr th {\n",
       "        vertical-align: top;\n",
       "    }\n",
       "\n",
       "    .dataframe thead th {\n",
       "        text-align: right;\n",
       "    }\n",
       "</style>\n",
       "<table border=\"1\" class=\"dataframe\">\n",
       "  <thead>\n",
       "    <tr style=\"text-align: right;\">\n",
       "      <th></th>\n",
       "      <th>behavioral_antiviral_meds</th>\n",
       "      <th>behavioral_avoidance</th>\n",
       "      <th>behavioral_face_mask</th>\n",
       "      <th>behavioral_wash_hands</th>\n",
       "      <th>behavioral_large_gatherings</th>\n",
       "      <th>behavioral_outside_home</th>\n",
       "      <th>behavioral_touch_face</th>\n",
       "      <th>doctor_recc_seasonal</th>\n",
       "      <th>chronic_med_condition</th>\n",
       "      <th>child_under_6_months</th>\n",
       "      <th>health_worker</th>\n",
       "      <th>opinion_seas_vacc_effective</th>\n",
       "      <th>opinion_seas_risk</th>\n",
       "      <th>opinion_seas_sick_from_vacc</th>\n",
       "      <th>household_adults</th>\n",
       "      <th>household_children</th>\n",
       "    </tr>\n",
       "  </thead>\n",
       "  <tbody>\n",
       "    <tr>\n",
       "      <th>0</th>\n",
       "      <td>0.0</td>\n",
       "      <td>0.0</td>\n",
       "      <td>0.0</td>\n",
       "      <td>0.0</td>\n",
       "      <td>0.0</td>\n",
       "      <td>1.0</td>\n",
       "      <td>1.0</td>\n",
       "      <td>0.0</td>\n",
       "      <td>0.0</td>\n",
       "      <td>0.0</td>\n",
       "      <td>0.0</td>\n",
       "      <td>2.0</td>\n",
       "      <td>1.0</td>\n",
       "      <td>2.0</td>\n",
       "      <td>0.0</td>\n",
       "      <td>0.0</td>\n",
       "    </tr>\n",
       "    <tr>\n",
       "      <th>1</th>\n",
       "      <td>0.0</td>\n",
       "      <td>1.0</td>\n",
       "      <td>0.0</td>\n",
       "      <td>1.0</td>\n",
       "      <td>0.0</td>\n",
       "      <td>1.0</td>\n",
       "      <td>1.0</td>\n",
       "      <td>0.0</td>\n",
       "      <td>0.0</td>\n",
       "      <td>0.0</td>\n",
       "      <td>0.0</td>\n",
       "      <td>4.0</td>\n",
       "      <td>2.0</td>\n",
       "      <td>4.0</td>\n",
       "      <td>0.0</td>\n",
       "      <td>0.0</td>\n",
       "    </tr>\n",
       "    <tr>\n",
       "      <th>2</th>\n",
       "      <td>0.0</td>\n",
       "      <td>1.0</td>\n",
       "      <td>0.0</td>\n",
       "      <td>0.0</td>\n",
       "      <td>0.0</td>\n",
       "      <td>0.0</td>\n",
       "      <td>0.0</td>\n",
       "      <td>0.0</td>\n",
       "      <td>1.0</td>\n",
       "      <td>0.0</td>\n",
       "      <td>0.0</td>\n",
       "      <td>4.0</td>\n",
       "      <td>1.0</td>\n",
       "      <td>2.0</td>\n",
       "      <td>2.0</td>\n",
       "      <td>0.0</td>\n",
       "    </tr>\n",
       "  </tbody>\n",
       "</table>\n",
       "</div>"
      ],
      "text/plain": [
       "   behavioral_antiviral_meds  behavioral_avoidance  behavioral_face_mask  \\\n",
       "0                        0.0                   0.0                   0.0   \n",
       "1                        0.0                   1.0                   0.0   \n",
       "2                        0.0                   1.0                   0.0   \n",
       "\n",
       "   behavioral_wash_hands  behavioral_large_gatherings  \\\n",
       "0                    0.0                          0.0   \n",
       "1                    1.0                          0.0   \n",
       "2                    0.0                          0.0   \n",
       "\n",
       "   behavioral_outside_home  behavioral_touch_face  doctor_recc_seasonal  \\\n",
       "0                      1.0                    1.0                   0.0   \n",
       "1                      1.0                    1.0                   0.0   \n",
       "2                      0.0                    0.0                   0.0   \n",
       "\n",
       "   chronic_med_condition  child_under_6_months  health_worker  \\\n",
       "0                    0.0                   0.0            0.0   \n",
       "1                    0.0                   0.0            0.0   \n",
       "2                    1.0                   0.0            0.0   \n",
       "\n",
       "   opinion_seas_vacc_effective  opinion_seas_risk  \\\n",
       "0                          2.0                1.0   \n",
       "1                          4.0                2.0   \n",
       "2                          4.0                1.0   \n",
       "\n",
       "   opinion_seas_sick_from_vacc  household_adults  household_children  \n",
       "0                          2.0               0.0                 0.0  \n",
       "1                          4.0               0.0                 0.0  \n",
       "2                          2.0               2.0                 0.0  "
      ]
     },
     "execution_count": 15,
     "metadata": {},
     "output_type": "execute_result"
    }
   ],
   "source": [
    "#replacing missing values\n",
    "df_numerical_variables_imputed = pd.DataFrame(imp_mostfreq.fit_transform(df_features[numerical_variables].loc[:,:]),\n",
    "                                              columns = df_features[numerical_variables].columns)\n",
    "\n",
    "df_numerical_variables_imputed.head(3)"
   ]
  },
  {
   "cell_type": "code",
   "execution_count": 16,
   "id": "d755f946-858e-4a15-9487-be56eb6d3dc0",
   "metadata": {},
   "outputs": [
    {
     "data": {
      "text/html": [
       "<div>\n",
       "<style scoped>\n",
       "    .dataframe tbody tr th:only-of-type {\n",
       "        vertical-align: middle;\n",
       "    }\n",
       "\n",
       "    .dataframe tbody tr th {\n",
       "        vertical-align: top;\n",
       "    }\n",
       "\n",
       "    .dataframe thead th {\n",
       "        text-align: right;\n",
       "    }\n",
       "</style>\n",
       "<table border=\"1\" class=\"dataframe\">\n",
       "  <thead>\n",
       "    <tr style=\"text-align: right;\">\n",
       "      <th></th>\n",
       "      <th>age_group</th>\n",
       "      <th>education</th>\n",
       "      <th>race</th>\n",
       "      <th>sex</th>\n",
       "      <th>income_poverty</th>\n",
       "      <th>marital_status</th>\n",
       "      <th>rent_or_own</th>\n",
       "      <th>employment_status</th>\n",
       "      <th>hhs_geo_region</th>\n",
       "      <th>census_msa</th>\n",
       "    </tr>\n",
       "  </thead>\n",
       "  <tbody>\n",
       "    <tr>\n",
       "      <th>0</th>\n",
       "      <td>55 - 64 Years</td>\n",
       "      <td>&lt; 12 Years</td>\n",
       "      <td>White</td>\n",
       "      <td>Female</td>\n",
       "      <td>Below Poverty</td>\n",
       "      <td>Not Married</td>\n",
       "      <td>Own</td>\n",
       "      <td>Not in Labor Force</td>\n",
       "      <td>oxchjgsf</td>\n",
       "      <td>Non-MSA</td>\n",
       "    </tr>\n",
       "    <tr>\n",
       "      <th>1</th>\n",
       "      <td>35 - 44 Years</td>\n",
       "      <td>12 Years</td>\n",
       "      <td>White</td>\n",
       "      <td>Male</td>\n",
       "      <td>Below Poverty</td>\n",
       "      <td>Not Married</td>\n",
       "      <td>Rent</td>\n",
       "      <td>Employed</td>\n",
       "      <td>bhuqouqj</td>\n",
       "      <td>MSA, Not Principle  City</td>\n",
       "    </tr>\n",
       "    <tr>\n",
       "      <th>2</th>\n",
       "      <td>18 - 34 Years</td>\n",
       "      <td>College Graduate</td>\n",
       "      <td>White</td>\n",
       "      <td>Male</td>\n",
       "      <td>&lt;= $75,000, Above Poverty</td>\n",
       "      <td>Not Married</td>\n",
       "      <td>Own</td>\n",
       "      <td>Employed</td>\n",
       "      <td>qufhixun</td>\n",
       "      <td>MSA, Not Principle  City</td>\n",
       "    </tr>\n",
       "  </tbody>\n",
       "</table>\n",
       "</div>"
      ],
      "text/plain": [
       "       age_group         education   race     sex             income_poverty  \\\n",
       "0  55 - 64 Years        < 12 Years  White  Female              Below Poverty   \n",
       "1  35 - 44 Years          12 Years  White    Male              Below Poverty   \n",
       "2  18 - 34 Years  College Graduate  White    Male  <= $75,000, Above Poverty   \n",
       "\n",
       "  marital_status rent_or_own   employment_status hhs_geo_region  \\\n",
       "0    Not Married         Own  Not in Labor Force       oxchjgsf   \n",
       "1    Not Married        Rent            Employed       bhuqouqj   \n",
       "2    Not Married         Own            Employed       qufhixun   \n",
       "\n",
       "                 census_msa  \n",
       "0                   Non-MSA  \n",
       "1  MSA, Not Principle  City  \n",
       "2  MSA, Not Principle  City  "
      ]
     },
     "execution_count": 16,
     "metadata": {},
     "output_type": "execute_result"
    }
   ],
   "source": [
    "#replacing missing values\n",
    "df_categorical_variables_imputed = pd.DataFrame(imp_mostfreq.fit_transform(df_features[categorical_variables].loc[:,:]),\n",
    "                                   columns = df_features[categorical_variables].columns)\n",
    "\n",
    "df_categorical_variables_imputed.head(3)"
   ]
  },
  {
   "cell_type": "markdown",
   "id": "82d8f91d-7066-4813-a5bf-bac4048a8561",
   "metadata": {},
   "source": [
    "**Encode the dataset’s categorical variables using OneHotEncoder, and then place the encoded variables into a new DataFrame.**"
   ]
  },
  {
   "cell_type": "code",
   "execution_count": 17,
   "id": "70c8d48e-1105-4f3f-8962-a10f17139b17",
   "metadata": {},
   "outputs": [],
   "source": [
    "# Create a OneHotEncoder instance\n",
    "enc = OneHotEncoder(sparse = False)"
   ]
  },
  {
   "cell_type": "code",
   "execution_count": 18,
   "id": "ac9da98a-64c5-44e5-a729-9b749132ff35",
   "metadata": {},
   "outputs": [],
   "source": [
    "# Encode the categorcal variables using OneHotEncoder\n",
    "encoded_data = enc.fit_transform(df_categorical_variables_imputed)"
   ]
  },
  {
   "cell_type": "code",
   "execution_count": 19,
   "id": "c79b16b8-fa5c-4c1a-b658-7d84c309f5f5",
   "metadata": {},
   "outputs": [
    {
     "data": {
      "text/html": [
       "<div>\n",
       "<style scoped>\n",
       "    .dataframe tbody tr th:only-of-type {\n",
       "        vertical-align: middle;\n",
       "    }\n",
       "\n",
       "    .dataframe tbody tr th {\n",
       "        vertical-align: top;\n",
       "    }\n",
       "\n",
       "    .dataframe thead th {\n",
       "        text-align: right;\n",
       "    }\n",
       "</style>\n",
       "<table border=\"1\" class=\"dataframe\">\n",
       "  <thead>\n",
       "    <tr style=\"text-align: right;\">\n",
       "      <th></th>\n",
       "      <th>age_group_18 - 34 Years</th>\n",
       "      <th>age_group_35 - 44 Years</th>\n",
       "      <th>age_group_45 - 54 Years</th>\n",
       "      <th>age_group_55 - 64 Years</th>\n",
       "      <th>age_group_65+ Years</th>\n",
       "      <th>education_12 Years</th>\n",
       "      <th>education_&lt; 12 Years</th>\n",
       "      <th>education_College Graduate</th>\n",
       "      <th>education_Some College</th>\n",
       "      <th>race_Black</th>\n",
       "      <th>...</th>\n",
       "      <th>hhs_geo_region_fpwskwrf</th>\n",
       "      <th>hhs_geo_region_kbazzjca</th>\n",
       "      <th>hhs_geo_region_lrircsnp</th>\n",
       "      <th>hhs_geo_region_lzgpxyit</th>\n",
       "      <th>hhs_geo_region_mlyzmhmf</th>\n",
       "      <th>hhs_geo_region_oxchjgsf</th>\n",
       "      <th>hhs_geo_region_qufhixun</th>\n",
       "      <th>census_msa_MSA, Not Principle  City</th>\n",
       "      <th>census_msa_MSA, Principle City</th>\n",
       "      <th>census_msa_Non-MSA</th>\n",
       "    </tr>\n",
       "  </thead>\n",
       "  <tbody>\n",
       "    <tr>\n",
       "      <th>0</th>\n",
       "      <td>0.0</td>\n",
       "      <td>0.0</td>\n",
       "      <td>0.0</td>\n",
       "      <td>1.0</td>\n",
       "      <td>0.0</td>\n",
       "      <td>0.0</td>\n",
       "      <td>1.0</td>\n",
       "      <td>0.0</td>\n",
       "      <td>0.0</td>\n",
       "      <td>0.0</td>\n",
       "      <td>...</td>\n",
       "      <td>0.0</td>\n",
       "      <td>0.0</td>\n",
       "      <td>0.0</td>\n",
       "      <td>0.0</td>\n",
       "      <td>0.0</td>\n",
       "      <td>1.0</td>\n",
       "      <td>0.0</td>\n",
       "      <td>0.0</td>\n",
       "      <td>0.0</td>\n",
       "      <td>1.0</td>\n",
       "    </tr>\n",
       "    <tr>\n",
       "      <th>1</th>\n",
       "      <td>0.0</td>\n",
       "      <td>1.0</td>\n",
       "      <td>0.0</td>\n",
       "      <td>0.0</td>\n",
       "      <td>0.0</td>\n",
       "      <td>1.0</td>\n",
       "      <td>0.0</td>\n",
       "      <td>0.0</td>\n",
       "      <td>0.0</td>\n",
       "      <td>0.0</td>\n",
       "      <td>...</td>\n",
       "      <td>0.0</td>\n",
       "      <td>0.0</td>\n",
       "      <td>0.0</td>\n",
       "      <td>0.0</td>\n",
       "      <td>0.0</td>\n",
       "      <td>0.0</td>\n",
       "      <td>0.0</td>\n",
       "      <td>1.0</td>\n",
       "      <td>0.0</td>\n",
       "      <td>0.0</td>\n",
       "    </tr>\n",
       "    <tr>\n",
       "      <th>2</th>\n",
       "      <td>1.0</td>\n",
       "      <td>0.0</td>\n",
       "      <td>0.0</td>\n",
       "      <td>0.0</td>\n",
       "      <td>0.0</td>\n",
       "      <td>0.0</td>\n",
       "      <td>0.0</td>\n",
       "      <td>1.0</td>\n",
       "      <td>0.0</td>\n",
       "      <td>0.0</td>\n",
       "      <td>...</td>\n",
       "      <td>0.0</td>\n",
       "      <td>0.0</td>\n",
       "      <td>0.0</td>\n",
       "      <td>0.0</td>\n",
       "      <td>0.0</td>\n",
       "      <td>0.0</td>\n",
       "      <td>1.0</td>\n",
       "      <td>1.0</td>\n",
       "      <td>0.0</td>\n",
       "      <td>0.0</td>\n",
       "    </tr>\n",
       "  </tbody>\n",
       "</table>\n",
       "<p>3 rows × 38 columns</p>\n",
       "</div>"
      ],
      "text/plain": [
       "   age_group_18 - 34 Years  age_group_35 - 44 Years  age_group_45 - 54 Years  \\\n",
       "0                      0.0                      0.0                      0.0   \n",
       "1                      0.0                      1.0                      0.0   \n",
       "2                      1.0                      0.0                      0.0   \n",
       "\n",
       "   age_group_55 - 64 Years  age_group_65+ Years  education_12 Years  \\\n",
       "0                      1.0                  0.0                 0.0   \n",
       "1                      0.0                  0.0                 1.0   \n",
       "2                      0.0                  0.0                 0.0   \n",
       "\n",
       "   education_< 12 Years  education_College Graduate  education_Some College  \\\n",
       "0                   1.0                         0.0                     0.0   \n",
       "1                   0.0                         0.0                     0.0   \n",
       "2                   0.0                         1.0                     0.0   \n",
       "\n",
       "   race_Black  ...  hhs_geo_region_fpwskwrf  hhs_geo_region_kbazzjca  \\\n",
       "0         0.0  ...                      0.0                      0.0   \n",
       "1         0.0  ...                      0.0                      0.0   \n",
       "2         0.0  ...                      0.0                      0.0   \n",
       "\n",
       "   hhs_geo_region_lrircsnp  hhs_geo_region_lzgpxyit  hhs_geo_region_mlyzmhmf  \\\n",
       "0                      0.0                      0.0                      0.0   \n",
       "1                      0.0                      0.0                      0.0   \n",
       "2                      0.0                      0.0                      0.0   \n",
       "\n",
       "   hhs_geo_region_oxchjgsf  hhs_geo_region_qufhixun  \\\n",
       "0                      1.0                      0.0   \n",
       "1                      0.0                      0.0   \n",
       "2                      0.0                      1.0   \n",
       "\n",
       "   census_msa_MSA, Not Principle  City  census_msa_MSA, Principle City  \\\n",
       "0                                  0.0                             0.0   \n",
       "1                                  1.0                             0.0   \n",
       "2                                  1.0                             0.0   \n",
       "\n",
       "   census_msa_Non-MSA  \n",
       "0                 1.0  \n",
       "1                 0.0  \n",
       "2                 0.0  \n",
       "\n",
       "[3 rows x 38 columns]"
      ]
     },
     "execution_count": 19,
     "metadata": {},
     "output_type": "execute_result"
    }
   ],
   "source": [
    "# Create a DataFrame with the encoded variables\n",
    "encoded_df = pd.DataFrame(encoded_data,\n",
    "                          columns = enc.get_feature_names_out(categorical_variables)\n",
    "                         )\n",
    "\n",
    "# Review the DataFrame\n",
    "encoded_df.head(3)"
   ]
  },
  {
   "cell_type": "markdown",
   "id": "c8bda3a3-f434-460a-9099-fbb2cf8ddc15",
   "metadata": {},
   "source": [
    "**Add the original DataFrame’s numerical variables to the DataFrame containing the encoded variables.**"
   ]
  },
  {
   "cell_type": "code",
   "execution_count": 20,
   "id": "2cb0e826-eca4-44ea-842c-3967a0b879d2",
   "metadata": {},
   "outputs": [
    {
     "data": {
      "text/html": [
       "<div>\n",
       "<style scoped>\n",
       "    .dataframe tbody tr th:only-of-type {\n",
       "        vertical-align: middle;\n",
       "    }\n",
       "\n",
       "    .dataframe tbody tr th {\n",
       "        vertical-align: top;\n",
       "    }\n",
       "\n",
       "    .dataframe thead th {\n",
       "        text-align: right;\n",
       "    }\n",
       "</style>\n",
       "<table border=\"1\" class=\"dataframe\">\n",
       "  <thead>\n",
       "    <tr style=\"text-align: right;\">\n",
       "      <th></th>\n",
       "      <th>age_group_18 - 34 Years</th>\n",
       "      <th>age_group_35 - 44 Years</th>\n",
       "      <th>age_group_45 - 54 Years</th>\n",
       "      <th>age_group_55 - 64 Years</th>\n",
       "      <th>age_group_65+ Years</th>\n",
       "      <th>education_12 Years</th>\n",
       "      <th>education_&lt; 12 Years</th>\n",
       "      <th>education_College Graduate</th>\n",
       "      <th>education_Some College</th>\n",
       "      <th>race_Black</th>\n",
       "      <th>...</th>\n",
       "      <th>behavioral_touch_face</th>\n",
       "      <th>doctor_recc_seasonal</th>\n",
       "      <th>chronic_med_condition</th>\n",
       "      <th>child_under_6_months</th>\n",
       "      <th>health_worker</th>\n",
       "      <th>opinion_seas_vacc_effective</th>\n",
       "      <th>opinion_seas_risk</th>\n",
       "      <th>opinion_seas_sick_from_vacc</th>\n",
       "      <th>household_adults</th>\n",
       "      <th>household_children</th>\n",
       "    </tr>\n",
       "  </thead>\n",
       "  <tbody>\n",
       "    <tr>\n",
       "      <th>0</th>\n",
       "      <td>0.0</td>\n",
       "      <td>0.0</td>\n",
       "      <td>0.0</td>\n",
       "      <td>1.0</td>\n",
       "      <td>0.0</td>\n",
       "      <td>0.0</td>\n",
       "      <td>1.0</td>\n",
       "      <td>0.0</td>\n",
       "      <td>0.0</td>\n",
       "      <td>0.0</td>\n",
       "      <td>...</td>\n",
       "      <td>1.0</td>\n",
       "      <td>0.0</td>\n",
       "      <td>0.0</td>\n",
       "      <td>0.0</td>\n",
       "      <td>0.0</td>\n",
       "      <td>2.0</td>\n",
       "      <td>1.0</td>\n",
       "      <td>2.0</td>\n",
       "      <td>0.0</td>\n",
       "      <td>0.0</td>\n",
       "    </tr>\n",
       "    <tr>\n",
       "      <th>1</th>\n",
       "      <td>0.0</td>\n",
       "      <td>1.0</td>\n",
       "      <td>0.0</td>\n",
       "      <td>0.0</td>\n",
       "      <td>0.0</td>\n",
       "      <td>1.0</td>\n",
       "      <td>0.0</td>\n",
       "      <td>0.0</td>\n",
       "      <td>0.0</td>\n",
       "      <td>0.0</td>\n",
       "      <td>...</td>\n",
       "      <td>1.0</td>\n",
       "      <td>0.0</td>\n",
       "      <td>0.0</td>\n",
       "      <td>0.0</td>\n",
       "      <td>0.0</td>\n",
       "      <td>4.0</td>\n",
       "      <td>2.0</td>\n",
       "      <td>4.0</td>\n",
       "      <td>0.0</td>\n",
       "      <td>0.0</td>\n",
       "    </tr>\n",
       "    <tr>\n",
       "      <th>2</th>\n",
       "      <td>1.0</td>\n",
       "      <td>0.0</td>\n",
       "      <td>0.0</td>\n",
       "      <td>0.0</td>\n",
       "      <td>0.0</td>\n",
       "      <td>0.0</td>\n",
       "      <td>0.0</td>\n",
       "      <td>1.0</td>\n",
       "      <td>0.0</td>\n",
       "      <td>0.0</td>\n",
       "      <td>...</td>\n",
       "      <td>0.0</td>\n",
       "      <td>0.0</td>\n",
       "      <td>1.0</td>\n",
       "      <td>0.0</td>\n",
       "      <td>0.0</td>\n",
       "      <td>4.0</td>\n",
       "      <td>1.0</td>\n",
       "      <td>2.0</td>\n",
       "      <td>2.0</td>\n",
       "      <td>0.0</td>\n",
       "    </tr>\n",
       "  </tbody>\n",
       "</table>\n",
       "<p>3 rows × 54 columns</p>\n",
       "</div>"
      ],
      "text/plain": [
       "   age_group_18 - 34 Years  age_group_35 - 44 Years  age_group_45 - 54 Years  \\\n",
       "0                      0.0                      0.0                      0.0   \n",
       "1                      0.0                      1.0                      0.0   \n",
       "2                      1.0                      0.0                      0.0   \n",
       "\n",
       "   age_group_55 - 64 Years  age_group_65+ Years  education_12 Years  \\\n",
       "0                      1.0                  0.0                 0.0   \n",
       "1                      0.0                  0.0                 1.0   \n",
       "2                      0.0                  0.0                 0.0   \n",
       "\n",
       "   education_< 12 Years  education_College Graduate  education_Some College  \\\n",
       "0                   1.0                         0.0                     0.0   \n",
       "1                   0.0                         0.0                     0.0   \n",
       "2                   0.0                         1.0                     0.0   \n",
       "\n",
       "   race_Black  ...  behavioral_touch_face  doctor_recc_seasonal  \\\n",
       "0         0.0  ...                    1.0                   0.0   \n",
       "1         0.0  ...                    1.0                   0.0   \n",
       "2         0.0  ...                    0.0                   0.0   \n",
       "\n",
       "   chronic_med_condition  child_under_6_months  health_worker  \\\n",
       "0                    0.0                   0.0            0.0   \n",
       "1                    0.0                   0.0            0.0   \n",
       "2                    1.0                   0.0            0.0   \n",
       "\n",
       "   opinion_seas_vacc_effective  opinion_seas_risk  \\\n",
       "0                          2.0                1.0   \n",
       "1                          4.0                2.0   \n",
       "2                          4.0                1.0   \n",
       "\n",
       "   opinion_seas_sick_from_vacc  household_adults  household_children  \n",
       "0                          2.0               0.0                 0.0  \n",
       "1                          4.0               0.0                 0.0  \n",
       "2                          2.0               2.0                 0.0  \n",
       "\n",
       "[3 rows x 54 columns]"
      ]
     },
     "execution_count": 20,
     "metadata": {},
     "output_type": "execute_result"
    }
   ],
   "source": [
    "# Add the numerical variables from the original DataFrame to the one-hot encoding DataFrame\n",
    "encoded_df = pd.concat([encoded_df, df_numerical_variables_imputed], axis = 1)\n",
    "\n",
    "# Review the Dataframe\n",
    "encoded_df.head(3)"
   ]
  },
  {
   "cell_type": "markdown",
   "id": "26a1ce12-b273-49b7-adc6-dca54a681473",
   "metadata": {
    "tags": []
   },
   "source": [
    "**Define features and target variables**"
   ]
  },
  {
   "cell_type": "code",
   "execution_count": 21,
   "id": "4739b153-e108-4990-a47e-b720fb37a4e8",
   "metadata": {},
   "outputs": [
    {
     "data": {
      "text/html": [
       "<div>\n",
       "<style scoped>\n",
       "    .dataframe tbody tr th:only-of-type {\n",
       "        vertical-align: middle;\n",
       "    }\n",
       "\n",
       "    .dataframe tbody tr th {\n",
       "        vertical-align: top;\n",
       "    }\n",
       "\n",
       "    .dataframe thead th {\n",
       "        text-align: right;\n",
       "    }\n",
       "</style>\n",
       "<table border=\"1\" class=\"dataframe\">\n",
       "  <thead>\n",
       "    <tr style=\"text-align: right;\">\n",
       "      <th></th>\n",
       "      <th>age_group_18 - 34 Years</th>\n",
       "      <th>age_group_35 - 44 Years</th>\n",
       "      <th>age_group_45 - 54 Years</th>\n",
       "      <th>age_group_55 - 64 Years</th>\n",
       "      <th>age_group_65+ Years</th>\n",
       "      <th>education_12 Years</th>\n",
       "      <th>education_&lt; 12 Years</th>\n",
       "      <th>education_College Graduate</th>\n",
       "      <th>education_Some College</th>\n",
       "      <th>race_Black</th>\n",
       "      <th>...</th>\n",
       "      <th>behavioral_touch_face</th>\n",
       "      <th>doctor_recc_seasonal</th>\n",
       "      <th>chronic_med_condition</th>\n",
       "      <th>child_under_6_months</th>\n",
       "      <th>health_worker</th>\n",
       "      <th>opinion_seas_vacc_effective</th>\n",
       "      <th>opinion_seas_risk</th>\n",
       "      <th>opinion_seas_sick_from_vacc</th>\n",
       "      <th>household_adults</th>\n",
       "      <th>household_children</th>\n",
       "    </tr>\n",
       "  </thead>\n",
       "  <tbody>\n",
       "    <tr>\n",
       "      <th>0</th>\n",
       "      <td>0.0</td>\n",
       "      <td>0.0</td>\n",
       "      <td>0.0</td>\n",
       "      <td>1.0</td>\n",
       "      <td>0.0</td>\n",
       "      <td>0.0</td>\n",
       "      <td>1.0</td>\n",
       "      <td>0.0</td>\n",
       "      <td>0.0</td>\n",
       "      <td>0.0</td>\n",
       "      <td>...</td>\n",
       "      <td>1.0</td>\n",
       "      <td>0.0</td>\n",
       "      <td>0.0</td>\n",
       "      <td>0.0</td>\n",
       "      <td>0.0</td>\n",
       "      <td>2.0</td>\n",
       "      <td>1.0</td>\n",
       "      <td>2.0</td>\n",
       "      <td>0.0</td>\n",
       "      <td>0.0</td>\n",
       "    </tr>\n",
       "    <tr>\n",
       "      <th>1</th>\n",
       "      <td>0.0</td>\n",
       "      <td>1.0</td>\n",
       "      <td>0.0</td>\n",
       "      <td>0.0</td>\n",
       "      <td>0.0</td>\n",
       "      <td>1.0</td>\n",
       "      <td>0.0</td>\n",
       "      <td>0.0</td>\n",
       "      <td>0.0</td>\n",
       "      <td>0.0</td>\n",
       "      <td>...</td>\n",
       "      <td>1.0</td>\n",
       "      <td>0.0</td>\n",
       "      <td>0.0</td>\n",
       "      <td>0.0</td>\n",
       "      <td>0.0</td>\n",
       "      <td>4.0</td>\n",
       "      <td>2.0</td>\n",
       "      <td>4.0</td>\n",
       "      <td>0.0</td>\n",
       "      <td>0.0</td>\n",
       "    </tr>\n",
       "    <tr>\n",
       "      <th>2</th>\n",
       "      <td>1.0</td>\n",
       "      <td>0.0</td>\n",
       "      <td>0.0</td>\n",
       "      <td>0.0</td>\n",
       "      <td>0.0</td>\n",
       "      <td>0.0</td>\n",
       "      <td>0.0</td>\n",
       "      <td>1.0</td>\n",
       "      <td>0.0</td>\n",
       "      <td>0.0</td>\n",
       "      <td>...</td>\n",
       "      <td>0.0</td>\n",
       "      <td>0.0</td>\n",
       "      <td>1.0</td>\n",
       "      <td>0.0</td>\n",
       "      <td>0.0</td>\n",
       "      <td>4.0</td>\n",
       "      <td>1.0</td>\n",
       "      <td>2.0</td>\n",
       "      <td>2.0</td>\n",
       "      <td>0.0</td>\n",
       "    </tr>\n",
       "  </tbody>\n",
       "</table>\n",
       "<p>3 rows × 54 columns</p>\n",
       "</div>"
      ],
      "text/plain": [
       "   age_group_18 - 34 Years  age_group_35 - 44 Years  age_group_45 - 54 Years  \\\n",
       "0                      0.0                      0.0                      0.0   \n",
       "1                      0.0                      1.0                      0.0   \n",
       "2                      1.0                      0.0                      0.0   \n",
       "\n",
       "   age_group_55 - 64 Years  age_group_65+ Years  education_12 Years  \\\n",
       "0                      1.0                  0.0                 0.0   \n",
       "1                      0.0                  0.0                 1.0   \n",
       "2                      0.0                  0.0                 0.0   \n",
       "\n",
       "   education_< 12 Years  education_College Graduate  education_Some College  \\\n",
       "0                   1.0                         0.0                     0.0   \n",
       "1                   0.0                         0.0                     0.0   \n",
       "2                   0.0                         1.0                     0.0   \n",
       "\n",
       "   race_Black  ...  behavioral_touch_face  doctor_recc_seasonal  \\\n",
       "0         0.0  ...                    1.0                   0.0   \n",
       "1         0.0  ...                    1.0                   0.0   \n",
       "2         0.0  ...                    0.0                   0.0   \n",
       "\n",
       "   chronic_med_condition  child_under_6_months  health_worker  \\\n",
       "0                    0.0                   0.0            0.0   \n",
       "1                    0.0                   0.0            0.0   \n",
       "2                    1.0                   0.0            0.0   \n",
       "\n",
       "   opinion_seas_vacc_effective  opinion_seas_risk  \\\n",
       "0                          2.0                1.0   \n",
       "1                          4.0                2.0   \n",
       "2                          4.0                1.0   \n",
       "\n",
       "   opinion_seas_sick_from_vacc  household_adults  household_children  \n",
       "0                          2.0               0.0                 0.0  \n",
       "1                          4.0               0.0                 0.0  \n",
       "2                          2.0               2.0                 0.0  \n",
       "\n",
       "[3 rows x 54 columns]"
      ]
     },
     "execution_count": 21,
     "metadata": {},
     "output_type": "execute_result"
    }
   ],
   "source": [
    "#define features set X\n",
    "X = encoded_df.copy()\n",
    "\n",
    "# Review the features DataFrame\n",
    "X.head(3)"
   ]
  },
  {
   "cell_type": "code",
   "execution_count": 22,
   "id": "8d96b06f-d799-49bf-83dc-540c3cb02ac4",
   "metadata": {},
   "outputs": [
    {
     "data": {
      "text/plain": [
       "respondent_id\n",
       "0    0\n",
       "1    1\n",
       "2    0\n",
       "3    1\n",
       "4    0\n",
       "Name: seasonal_vaccine, dtype: int64"
      ]
     },
     "execution_count": 22,
     "metadata": {},
     "output_type": "execute_result"
    }
   ],
   "source": [
    "#define target variable y\n",
    "y = df_vaccine[\"seasonal_vaccine\"].copy()\n",
    "y[:5]"
   ]
  },
  {
   "cell_type": "markdown",
   "id": "24cabdfc-bf2f-4345-aea8-dc0151b7bbda",
   "metadata": {
    "tags": []
   },
   "source": [
    "#### Split dataset into training, validation testing dataset"
   ]
  },
  {
   "cell_type": "code",
   "execution_count": 23,
   "id": "d08be692-2c27-4942-9e2b-20c05f013dd1",
   "metadata": {},
   "outputs": [],
   "source": [
    "# Creating training, validation, and testing sets\n",
    "#Split dataset in 80-20; training set is 80% of the total data\n",
    "#remaining is used for testing and validation\n",
    "X_train, X_combine, y_train, y_combine = train_test_split(X, y, \n",
    "                                                         train_size = 0.8,\n",
    "                                                         random_state = 10)"
   ]
  },
  {
   "cell_type": "code",
   "execution_count": 24,
   "id": "6b2bd14f-84bb-496c-be20-b9a4d79e1bb4",
   "metadata": {},
   "outputs": [],
   "source": [
    "#splitting the remaining data in 50-50\n",
    "#testing set  = 10% of total data\n",
    "#validation set = 10% of total data\n",
    "X_val, X_test, y_val, y_test = train_test_split(X_combine, y_combine, \n",
    "                                                train_size = 0.50,\n",
    "                                                random_state = 10)"
   ]
  },
  {
   "cell_type": "code",
   "execution_count": 25,
   "id": "b6bb3b1b-dbc2-4f0a-9a52-b3e89caa7b75",
   "metadata": {},
   "outputs": [],
   "source": [
    "# Scale the data\n",
    "scaler = StandardScaler().fit(X_train)\n",
    "X_train_scaled = scaler.transform(X_train)\n",
    "X_test_scaled = scaler.transform(X_test)"
   ]
  },
  {
   "cell_type": "markdown",
   "id": "b850a123-5ba7-43b8-9602-6f794461261d",
   "metadata": {
    "tags": []
   },
   "source": [
    "## Build and Train Machine Learning Model"
   ]
  },
  {
   "cell_type": "markdown",
   "id": "2ec98442-ab1b-4fd5-8618-0fafa83cf28d",
   "metadata": {
    "tags": []
   },
   "source": [
    "### Establish the baseline model"
   ]
  },
  {
   "cell_type": "code",
   "execution_count": 26,
   "id": "f746b390-efbb-4eb9-9cbe-cc9dd2073f5a",
   "metadata": {},
   "outputs": [
    {
     "data": {
      "text/plain": [
       "array([0, 1, 0, 0, 0, 1, 1, 1, 1, 1], dtype=int64)"
      ]
     },
     "execution_count": 26,
     "metadata": {},
     "output_type": "execute_result"
    }
   ],
   "source": [
    "# instantiate random forest classifier model instance\n",
    "rf= RandomForestClassifier(random_state=1)\n",
    "\n",
    "# Fit the model to the data using the training data\n",
    "model_rf = rf.fit(X_train_scaled, y_train)\n",
    "\n",
    "# Use the testing data to make the model predictions\n",
    "y_pred_rf = model_rf.predict(X_test_scaled)\n",
    "\n",
    "# Review the model's predicted values\n",
    "y_pred_rf[:10]"
   ]
  },
  {
   "cell_type": "code",
   "execution_count": 27,
   "id": "35a8f998-29eb-4fe1-b757-9539852e7f6f",
   "metadata": {},
   "outputs": [],
   "source": [
    "#predict probabilities\n",
    "prob_pred_rf = model_rf.predict_proba(X_test_scaled)"
   ]
  },
  {
   "cell_type": "code",
   "execution_count": 28,
   "id": "4d9447ef-f928-4beb-8e01-e5d1638ecd53",
   "metadata": {},
   "outputs": [
    {
     "name": "stdout",
     "output_type": "stream",
     "text": [
      "              precision    recall  f1-score   support\n",
      "\n",
      "           0       0.74      0.79      0.77      1384\n",
      "           1       0.76      0.70      0.73      1287\n",
      "\n",
      "    accuracy                           0.75      2671\n",
      "   macro avg       0.75      0.75      0.75      2671\n",
      "weighted avg       0.75      0.75      0.75      2671\n",
      "\n"
     ]
    }
   ],
   "source": [
    "# Use a classification report to evaluate the model using the predictions and testing data\n",
    "testing_report_rf = classification_report(y_test, y_pred_rf)\n",
    "print(testing_report_rf)"
   ]
  },
  {
   "cell_type": "code",
   "execution_count": 29,
   "id": "9ba94ac7-e70a-445d-88db-d56f3853ed87",
   "metadata": {},
   "outputs": [
    {
     "data": {
      "text/plain": [
       "0.7514"
      ]
     },
     "execution_count": 29,
     "metadata": {},
     "output_type": "execute_result"
    }
   ],
   "source": [
    "#get accuracy score\n",
    "accuracy_base = round(accuracy_score(y_test,y_pred_rf),4)\n",
    "accuracy_base"
   ]
  },
  {
   "cell_type": "markdown",
   "id": "4f389d1d-03d4-4026-b53e-4cd043dd562f",
   "metadata": {
    "tags": []
   },
   "source": [
    "### Tune the baseline model"
   ]
  },
  {
   "cell_type": "markdown",
   "id": "782eee22-e7b9-4e07-bbeb-d3eabf2218c1",
   "metadata": {
    "tags": []
   },
   "source": [
    "#### 1. Features Selection"
   ]
  },
  {
   "cell_type": "code",
   "execution_count": 30,
   "id": "25bb6535-cd36-461d-973c-5b2f7e5014ce",
   "metadata": {},
   "outputs": [
    {
     "data": {
      "text/html": [
       "<div>\n",
       "<style scoped>\n",
       "    .dataframe tbody tr th:only-of-type {\n",
       "        vertical-align: middle;\n",
       "    }\n",
       "\n",
       "    .dataframe tbody tr th {\n",
       "        vertical-align: top;\n",
       "    }\n",
       "\n",
       "    .dataframe thead th {\n",
       "        text-align: right;\n",
       "    }\n",
       "</style>\n",
       "<table border=\"1\" class=\"dataframe\">\n",
       "  <thead>\n",
       "    <tr style=\"text-align: right;\">\n",
       "      <th></th>\n",
       "      <th>seasonal_vaccine</th>\n",
       "      <th>age_group_18 - 34 Years</th>\n",
       "      <th>age_group_35 - 44 Years</th>\n",
       "      <th>age_group_45 - 54 Years</th>\n",
       "      <th>age_group_55 - 64 Years</th>\n",
       "      <th>age_group_65+ Years</th>\n",
       "      <th>education_12 Years</th>\n",
       "      <th>education_&lt; 12 Years</th>\n",
       "      <th>education_College Graduate</th>\n",
       "      <th>education_Some College</th>\n",
       "      <th>...</th>\n",
       "      <th>behavioral_touch_face</th>\n",
       "      <th>doctor_recc_seasonal</th>\n",
       "      <th>chronic_med_condition</th>\n",
       "      <th>child_under_6_months</th>\n",
       "      <th>health_worker</th>\n",
       "      <th>opinion_seas_vacc_effective</th>\n",
       "      <th>opinion_seas_risk</th>\n",
       "      <th>opinion_seas_sick_from_vacc</th>\n",
       "      <th>household_adults</th>\n",
       "      <th>household_children</th>\n",
       "    </tr>\n",
       "  </thead>\n",
       "  <tbody>\n",
       "    <tr>\n",
       "      <th>0</th>\n",
       "      <td>0</td>\n",
       "      <td>0.0</td>\n",
       "      <td>0.0</td>\n",
       "      <td>0.0</td>\n",
       "      <td>1.0</td>\n",
       "      <td>0.0</td>\n",
       "      <td>0.0</td>\n",
       "      <td>1.0</td>\n",
       "      <td>0.0</td>\n",
       "      <td>0.0</td>\n",
       "      <td>...</td>\n",
       "      <td>1.0</td>\n",
       "      <td>0.0</td>\n",
       "      <td>0.0</td>\n",
       "      <td>0.0</td>\n",
       "      <td>0.0</td>\n",
       "      <td>2.0</td>\n",
       "      <td>1.0</td>\n",
       "      <td>2.0</td>\n",
       "      <td>0.0</td>\n",
       "      <td>0.0</td>\n",
       "    </tr>\n",
       "    <tr>\n",
       "      <th>1</th>\n",
       "      <td>1</td>\n",
       "      <td>0.0</td>\n",
       "      <td>1.0</td>\n",
       "      <td>0.0</td>\n",
       "      <td>0.0</td>\n",
       "      <td>0.0</td>\n",
       "      <td>1.0</td>\n",
       "      <td>0.0</td>\n",
       "      <td>0.0</td>\n",
       "      <td>0.0</td>\n",
       "      <td>...</td>\n",
       "      <td>1.0</td>\n",
       "      <td>0.0</td>\n",
       "      <td>0.0</td>\n",
       "      <td>0.0</td>\n",
       "      <td>0.0</td>\n",
       "      <td>4.0</td>\n",
       "      <td>2.0</td>\n",
       "      <td>4.0</td>\n",
       "      <td>0.0</td>\n",
       "      <td>0.0</td>\n",
       "    </tr>\n",
       "    <tr>\n",
       "      <th>2</th>\n",
       "      <td>0</td>\n",
       "      <td>1.0</td>\n",
       "      <td>0.0</td>\n",
       "      <td>0.0</td>\n",
       "      <td>0.0</td>\n",
       "      <td>0.0</td>\n",
       "      <td>0.0</td>\n",
       "      <td>0.0</td>\n",
       "      <td>1.0</td>\n",
       "      <td>0.0</td>\n",
       "      <td>...</td>\n",
       "      <td>0.0</td>\n",
       "      <td>0.0</td>\n",
       "      <td>1.0</td>\n",
       "      <td>0.0</td>\n",
       "      <td>0.0</td>\n",
       "      <td>4.0</td>\n",
       "      <td>1.0</td>\n",
       "      <td>2.0</td>\n",
       "      <td>2.0</td>\n",
       "      <td>0.0</td>\n",
       "    </tr>\n",
       "  </tbody>\n",
       "</table>\n",
       "<p>3 rows × 55 columns</p>\n",
       "</div>"
      ],
      "text/plain": [
       "   seasonal_vaccine  age_group_18 - 34 Years  age_group_35 - 44 Years  \\\n",
       "0                 0                      0.0                      0.0   \n",
       "1                 1                      0.0                      1.0   \n",
       "2                 0                      1.0                      0.0   \n",
       "\n",
       "   age_group_45 - 54 Years  age_group_55 - 64 Years  age_group_65+ Years  \\\n",
       "0                      0.0                      1.0                  0.0   \n",
       "1                      0.0                      0.0                  0.0   \n",
       "2                      0.0                      0.0                  0.0   \n",
       "\n",
       "   education_12 Years  education_< 12 Years  education_College Graduate  \\\n",
       "0                 0.0                   1.0                         0.0   \n",
       "1                 1.0                   0.0                         0.0   \n",
       "2                 0.0                   0.0                         1.0   \n",
       "\n",
       "   education_Some College  ...  behavioral_touch_face  doctor_recc_seasonal  \\\n",
       "0                     0.0  ...                    1.0                   0.0   \n",
       "1                     0.0  ...                    1.0                   0.0   \n",
       "2                     0.0  ...                    0.0                   0.0   \n",
       "\n",
       "   chronic_med_condition  child_under_6_months  health_worker  \\\n",
       "0                    0.0                   0.0            0.0   \n",
       "1                    0.0                   0.0            0.0   \n",
       "2                    1.0                   0.0            0.0   \n",
       "\n",
       "   opinion_seas_vacc_effective  opinion_seas_risk  \\\n",
       "0                          2.0                1.0   \n",
       "1                          4.0                2.0   \n",
       "2                          4.0                1.0   \n",
       "\n",
       "   opinion_seas_sick_from_vacc  household_adults  household_children  \n",
       "0                          2.0               0.0                 0.0  \n",
       "1                          4.0               0.0                 0.0  \n",
       "2                          2.0               2.0                 0.0  \n",
       "\n",
       "[3 rows x 55 columns]"
      ]
     },
     "execution_count": 30,
     "metadata": {},
     "output_type": "execute_result"
    }
   ],
   "source": [
    "df = pd.concat([df_vaccine[[\"seasonal_vaccine\"]], encoded_df], axis = 1)\n",
    "df.head(3)"
   ]
  },
  {
   "cell_type": "code",
   "execution_count": 31,
   "id": "a138b1bc-35df-466c-ac27-db6fb1f4497f",
   "metadata": {},
   "outputs": [
    {
     "data": {
      "text/plain": [
       "seasonal_vaccine                            1.000000\n",
       "opinion_seas_risk                           0.386916\n",
       "doctor_recc_seasonal                        0.360696\n",
       "opinion_seas_vacc_effective                 0.358869\n",
       "age_group_65+ Years                         0.244830\n",
       "chronic_med_condition                       0.169465\n",
       "employment_status_Not in Labor Force        0.145819\n",
       "health_worker                               0.126977\n",
       "behavioral_touch_face                       0.119925\n",
       "behavioral_wash_hands                       0.112254\n",
       "rent_or_own_Own                             0.101796\n",
       "race_White                                  0.100314\n",
       "sex_Female                                  0.077091\n",
       "behavioral_avoidance                        0.076130\n",
       "behavioral_large_gatherings                 0.063722\n",
       "behavioral_outside_home                     0.053287\n",
       "education_College Graduate                  0.053002\n",
       "behavioral_face_mask                        0.050020\n",
       "age_group_55 - 64 Years                     0.046918\n",
       "marital_status_Married                      0.042360\n",
       "income_poverty_> $75,000                    0.036547\n",
       "census_msa_MSA, Not Principle  City         0.022251\n",
       "hhs_geo_region_bhuqouqj                     0.021379\n",
       "hhs_geo_region_atmpeygn                     0.015686\n",
       "child_under_6_months                        0.013424\n",
       "hhs_geo_region_kbazzjca                     0.010998\n",
       "income_poverty_<= $75,000, Above Poverty    0.010275\n",
       "hhs_geo_region_fpwskwrf                     0.006368\n",
       "behavioral_antiviral_meds                   0.006013\n",
       "hhs_geo_region_qufhixun                     0.002034\n",
       "hhs_geo_region_oxchjgsf                     0.001900\n",
       "census_msa_Non-MSA                         -0.009042\n",
       "hhs_geo_region_mlyzmhmf                    -0.009840\n",
       "hhs_geo_region_lzgpxyit                    -0.010770\n",
       "hhs_geo_region_dqpwygqj                    -0.013176\n",
       "census_msa_MSA, Principle City             -0.015406\n",
       "education_Some College                     -0.016401\n",
       "education_12 Years                         -0.018415\n",
       "race_Other or Multiple                     -0.023186\n",
       "hhs_geo_region_lrircsnp                    -0.030414\n",
       "education_< 12 Years                       -0.040238\n",
       "marital_status_Not Married                 -0.042360\n",
       "opinion_seas_sick_from_vacc                -0.057066\n",
       "age_group_45 - 54 Years                    -0.063682\n",
       "household_adults                           -0.065137\n",
       "race_Hispanic                              -0.066995\n",
       "race_Black                                 -0.068104\n",
       "income_poverty_Below Poverty               -0.069194\n",
       "sex_Male                                   -0.077091\n",
       "employment_status_Unemployed               -0.078610\n",
       "age_group_35 - 44 Years                    -0.084788\n",
       "rent_or_own_Rent                           -0.101796\n",
       "employment_status_Employed                 -0.106955\n",
       "household_children                         -0.111680\n",
       "age_group_18 - 34 Years                    -0.178786\n",
       "Name: seasonal_vaccine, dtype: float64"
      ]
     },
     "execution_count": 31,
     "metadata": {},
     "output_type": "execute_result"
    }
   ],
   "source": [
    "#compute correlation matrix\n",
    "corr = df.corr()\n",
    "corr.iloc[0,:].sort_values(ascending = False)"
   ]
  },
  {
   "cell_type": "code",
   "execution_count": 32,
   "id": "4cc49792-9e71-436a-9117-a2eba6e439c2",
   "metadata": {},
   "outputs": [
    {
     "data": {
      "text/plain": [
       "<AxesSubplot: title={'center': 'Correlation Matrix'}>"
      ]
     },
     "execution_count": 32,
     "metadata": {},
     "output_type": "execute_result"
    },
    {
     "data": {
      "image/png": "[encoded data removed]",
      "text/plain": [
       "<Figure size 640x480 with 2 Axes>"
      ]
     },
     "metadata": {},
     "output_type": "display_data"
    }
   ],
   "source": [
    "#generate a mast for the uppper triangle\n",
    "mask = np.triu(np.ones_like(corr, dtype = bool))\n",
    "\n",
    "#plot the correlation matrix\n",
    "sns.set(font_scale = 0.8)\n",
    "plt.title(\"Correlation Matrix\")\n",
    "sns.heatmap(corr, vmin = -1, vmax= 1,cmap = \"Blues\",\n",
    "            mask = mask, linewidth =0.5)"
   ]
  },
  {
   "cell_type": "code",
   "execution_count": 33,
   "id": "e469f232-a125-41e7-a1a4-36fb9f313330",
   "metadata": {},
   "outputs": [
    {
     "data": {
      "text/plain": [
       "Index(['seasonal_vaccine', 'opinion_seas_risk', 'doctor_recc_seasonal',\n",
       "       'opinion_seas_vacc_effective', 'age_group_65+ Years'],\n",
       "      dtype='object')"
      ]
     },
     "execution_count": 33,
     "metadata": {},
     "output_type": "execute_result"
    }
   ],
   "source": [
    "#Identify four features that are most correlated with seasonal_vaccine\n",
    "corr.nlargest(5, corr.columns).index"
   ]
  },
  {
   "cell_type": "code",
   "execution_count": 34,
   "id": "2213459b-6281-4e87-8588-b558616c0129",
   "metadata": {},
   "outputs": [
    {
     "data": {
      "text/html": [
       "<div>\n",
       "<style scoped>\n",
       "    .dataframe tbody tr th:only-of-type {\n",
       "        vertical-align: middle;\n",
       "    }\n",
       "\n",
       "    .dataframe tbody tr th {\n",
       "        vertical-align: top;\n",
       "    }\n",
       "\n",
       "    .dataframe thead th {\n",
       "        text-align: right;\n",
       "    }\n",
       "</style>\n",
       "<table border=\"1\" class=\"dataframe\">\n",
       "  <thead>\n",
       "    <tr style=\"text-align: right;\">\n",
       "      <th></th>\n",
       "      <th>opinion_seas_risk</th>\n",
       "      <th>doctor_recc_seasonal</th>\n",
       "      <th>opinion_seas_vacc_effective</th>\n",
       "      <th>age_group_65+ Years</th>\n",
       "    </tr>\n",
       "  </thead>\n",
       "  <tbody>\n",
       "    <tr>\n",
       "      <th>0</th>\n",
       "      <td>1.0</td>\n",
       "      <td>0.0</td>\n",
       "      <td>2.0</td>\n",
       "      <td>0.0</td>\n",
       "    </tr>\n",
       "    <tr>\n",
       "      <th>1</th>\n",
       "      <td>2.0</td>\n",
       "      <td>0.0</td>\n",
       "      <td>4.0</td>\n",
       "      <td>0.0</td>\n",
       "    </tr>\n",
       "    <tr>\n",
       "      <th>2</th>\n",
       "      <td>1.0</td>\n",
       "      <td>0.0</td>\n",
       "      <td>4.0</td>\n",
       "      <td>0.0</td>\n",
       "    </tr>\n",
       "  </tbody>\n",
       "</table>\n",
       "</div>"
      ],
      "text/plain": [
       "   opinion_seas_risk  doctor_recc_seasonal  opinion_seas_vacc_effective  \\\n",
       "0                1.0                   0.0                          2.0   \n",
       "1                2.0                   0.0                          4.0   \n",
       "2                1.0                   0.0                          4.0   \n",
       "\n",
       "   age_group_65+ Years  \n",
       "0                  0.0  \n",
       "1                  0.0  \n",
       "2                  0.0  "
      ]
     },
     "execution_count": 34,
     "metadata": {},
     "output_type": "execute_result"
    }
   ],
   "source": [
    "#define a new set of features\n",
    "X2 = encoded_df.filter(['opinion_seas_risk', 'doctor_recc_seasonal','opinion_seas_vacc_effective', 'age_group_65+ Years']).copy()\n",
    "\n",
    "#review new features dataset\n",
    "X2.head(3)"
   ]
  },
  {
   "cell_type": "code",
   "execution_count": 35,
   "id": "b722471d-dc5a-4c6c-a774-03dcbb604686",
   "metadata": {},
   "outputs": [],
   "source": [
    "X2_train, X2_combine, y2_train, y2_combine = train_test_split(X2, y, \n",
    "                                                            train_size = 0.8,\n",
    "                                                            random_state = 10)\n",
    "\n",
    "X2_val, X2_test, y2_val, y2_test = train_test_split(X2_combine, y2_combine, \n",
    "                                                            train_size = 0.5,\n",
    "                                                            random_state = 10)"
   ]
  },
  {
   "cell_type": "code",
   "execution_count": 36,
   "id": "c5ce16a8-b047-49da-8160-bf607f034805",
   "metadata": {},
   "outputs": [],
   "source": [
    "# Scale the data\n",
    "scaler = StandardScaler().fit(X2_train)\n",
    "X2_train_scaled = scaler.transform(X2_train)\n",
    "X2_test_scaled = scaler.transform(X2_test)"
   ]
  },
  {
   "cell_type": "code",
   "execution_count": 37,
   "id": "73ce4884-0be5-4560-b545-eb3d34803c68",
   "metadata": {},
   "outputs": [
    {
     "data": {
      "text/plain": [
       "array([0, 1, 0, 0, 0, 1, 1, 1, 1, 1], dtype=int64)"
      ]
     },
     "execution_count": 37,
     "metadata": {},
     "output_type": "execute_result"
    }
   ],
   "source": [
    "# Fit the model to the data using the training data\n",
    "model_rf2 = rf.fit(X2_train_scaled, y2_train)\n",
    "\n",
    "# Use the testing data to make the model predictions\n",
    "y2_pred_rf = model_rf2.predict(X2_test_scaled)\n",
    "\n",
    "# Review the model's predicted values\n",
    "y2_pred_rf[:10]"
   ]
  },
  {
   "cell_type": "code",
   "execution_count": 38,
   "id": "512f88fa-b35f-479c-ae6e-910e232613b8",
   "metadata": {},
   "outputs": [],
   "source": [
    "#predict probabilities\n",
    "prob_pred_rf2 = model_rf2.predict_proba(X2_test_scaled)"
   ]
  },
  {
   "cell_type": "code",
   "execution_count": 39,
   "id": "8d72cc25-e730-4b24-96c2-32a15f5b417f",
   "metadata": {},
   "outputs": [
    {
     "name": "stdout",
     "output_type": "stream",
     "text": [
      "              precision    recall  f1-score   support\n",
      "\n",
      "           0       0.74      0.79      0.76      1384\n",
      "           1       0.76      0.70      0.72      1287\n",
      "\n",
      "    accuracy                           0.75      2671\n",
      "   macro avg       0.75      0.74      0.74      2671\n",
      "weighted avg       0.75      0.75      0.74      2671\n",
      "\n"
     ]
    }
   ],
   "source": [
    "# Use a classification report to evaluate the model using the predictions and testing data\n",
    "testing_report_rf2 = classification_report(y2_test, y2_pred_rf)\n",
    "print(testing_report_rf2)"
   ]
  },
  {
   "cell_type": "code",
   "execution_count": 40,
   "id": "c4834973-1f3d-4aa5-a797-11b4e29d4a80",
   "metadata": {},
   "outputs": [
    {
     "data": {
      "text/plain": [
       "0.745"
      ]
     },
     "execution_count": 40,
     "metadata": {},
     "output_type": "execute_result"
    }
   ],
   "source": [
    "#get accuracy score\n",
    "accuracy_lessfeature = round(accuracy_score(y2_test,y2_pred_rf),4)\n",
    "accuracy_lessfeature"
   ]
  },
  {
   "cell_type": "markdown",
   "id": "90e6119f-ee0f-4b14-aa65-81c88818c470",
   "metadata": {
    "tags": []
   },
   "source": [
    "#### 2. Hyperparameters tuning with RandomizedSearchCV"
   ]
  },
  {
   "cell_type": "code",
   "execution_count": 41,
   "id": "a7c99faf-a7e8-4ac5-9396-5251e4ccd86f",
   "metadata": {},
   "outputs": [],
   "source": [
    "#set up hyperparameter distributions\n",
    "rscv_params = { \"n_estimators\":randint(200,501),\n",
    "                \"max_features\":randint(10,30),\n",
    "                \"min_samples_split\": randint(10,30)\n",
    "              }"
   ]
  },
  {
   "cell_type": "code",
   "execution_count": 42,
   "id": "d878bb89-180d-4adc-b392-6bdb5553a377",
   "metadata": {},
   "outputs": [],
   "source": [
    "#set up random search meta-estimator\n",
    "#train 20 models over 2 folds of cross validation (40 models in total)\n",
    "rscv_search = RandomizedSearchCV(rf,\n",
    "                                 rscv_params,\n",
    "                                 n_iter = 20,\n",
    "                                 cv= 2,\n",
    "                                 scoring = \"accuracy\",\n",
    "                                 verbose = 3,\n",
    "                                 random_state = 1)"
   ]
  },
  {
   "cell_type": "code",
   "execution_count": 43,
   "id": "1f0e0d76-bc06-4611-8021-17d831d7741a",
   "metadata": {},
   "outputs": [
    {
     "name": "stdout",
     "output_type": "stream",
     "text": [
      "Fitting 2 folds for each of 20 candidates, totalling 40 fits\n",
      "[CV 1/2] END max_features=15, min_samples_split=21, n_estimators=272;, score=0.775 total time=   2.4s\n",
      "[CV 2/2] END max_features=15, min_samples_split=21, n_estimators=272;, score=0.778 total time=   2.4s\n",
      "[CV 1/2] END max_features=19, min_samples_split=21, n_estimators=333;, score=0.774 total time=   3.4s\n",
      "[CV 2/2] END max_features=19, min_samples_split=21, n_estimators=333;, score=0.777 total time=   3.5s\n",
      "[CV 1/2] END max_features=25, min_samples_split=10, n_estimators=344;, score=0.772 total time=   4.8s\n",
      "[CV 2/2] END max_features=25, min_samples_split=10, n_estimators=344;, score=0.772 total time=   4.8s\n",
      "[CV 1/2] END max_features=11, min_samples_split=22, n_estimators=271;, score=0.776 total time=   2.0s\n",
      "[CV 2/2] END max_features=11, min_samples_split=22, n_estimators=271;, score=0.777 total time=   1.9s\n",
      "[CV 1/2] END max_features=23, min_samples_split=16, n_estimators=481;, score=0.773 total time=   6.0s\n",
      "[CV 2/2] END max_features=23, min_samples_split=16, n_estimators=481;, score=0.774 total time=   6.1s\n",
      "[CV 1/2] END max_features=28, min_samples_split=15, n_estimators=452;, score=0.772 total time=   6.7s\n",
      "[CV 2/2] END max_features=28, min_samples_split=15, n_estimators=452;, score=0.773 total time=   6.6s\n",
      "[CV 1/2] END max_features=20, min_samples_split=24, n_estimators=250;, score=0.774 total time=   2.6s\n",
      "[CV 2/2] END max_features=20, min_samples_split=24, n_estimators=250;, score=0.775 total time=   2.6s\n",
      "[CV 1/2] END max_features=14, min_samples_split=19, n_estimators=441;, score=0.776 total time=   3.8s\n",
      "[CV 2/2] END max_features=14, min_samples_split=19, n_estimators=441;, score=0.778 total time=   3.8s\n",
      "[CV 1/2] END max_features=10, min_samples_split=23, n_estimators=207;, score=0.775 total time=   1.4s\n",
      "[CV 2/2] END max_features=10, min_samples_split=23, n_estimators=207;, score=0.777 total time=   1.4s\n",
      "[CV 1/2] END max_features=11, min_samples_split=10, n_estimators=409;, score=0.774 total time=   3.3s\n",
      "[CV 2/2] END max_features=11, min_samples_split=10, n_estimators=409;, score=0.776 total time=   3.3s\n",
      "[CV 1/2] END max_features=18, min_samples_split=23, n_estimators=315;, score=0.773 total time=   3.0s\n",
      "[CV 2/2] END max_features=18, min_samples_split=23, n_estimators=315;, score=0.778 total time=   3.1s\n",
      "[CV 1/2] END max_features=25, min_samples_split=20, n_estimators=321;, score=0.775 total time=   4.1s\n",
      "[CV 2/2] END max_features=25, min_samples_split=20, n_estimators=321;, score=0.774 total time=   4.3s\n",
      "[CV 1/2] END max_features=18, min_samples_split=17, n_estimators=249;, score=0.772 total time=   2.6s\n",
      "[CV 2/2] END max_features=18, min_samples_split=17, n_estimators=249;, score=0.775 total time=   2.5s\n",
      "[CV 1/2] END max_features=13, min_samples_split=14, n_estimators=480;, score=0.775 total time=   4.2s\n",
      "[CV 2/2] END max_features=13, min_samples_split=14, n_estimators=480;, score=0.777 total time=   4.2s\n",
      "[CV 1/2] END max_features=27, min_samples_split=21, n_estimators=276;, score=0.773 total time=   3.7s\n",
      "[CV 2/2] END max_features=27, min_samples_split=21, n_estimators=276;, score=0.776 total time=   3.7s\n",
      "[CV 1/2] END max_features=26, min_samples_split=23, n_estimators=497;, score=0.774 total time=   6.5s\n",
      "[CV 2/2] END max_features=26, min_samples_split=23, n_estimators=497;, score=0.774 total time=   6.5s\n",
      "[CV 1/2] END max_features=28, min_samples_split=25, n_estimators=264;, score=0.773 total time=   3.6s\n",
      "[CV 2/2] END max_features=28, min_samples_split=25, n_estimators=264;, score=0.774 total time=   3.5s\n",
      "[CV 1/2] END max_features=14, min_samples_split=25, n_estimators=426;, score=0.775 total time=   3.5s\n",
      "[CV 2/2] END max_features=14, min_samples_split=25, n_estimators=426;, score=0.777 total time=   3.5s\n",
      "[CV 1/2] END max_features=17, min_samples_split=18, n_estimators=222;, score=0.775 total time=   2.1s\n",
      "[CV 2/2] END max_features=17, min_samples_split=18, n_estimators=222;, score=0.776 total time=   2.1s\n",
      "[CV 1/2] END max_features=19, min_samples_split=13, n_estimators=326;, score=0.773 total time=   3.6s\n",
      "[CV 2/2] END max_features=19, min_samples_split=13, n_estimators=326;, score=0.775 total time=   3.6s\n"
     ]
    }
   ],
   "source": [
    "#train the random search meta-estimator to find the best model\n",
    "tune_rscv = rscv_search.fit(X_train_scaled, y_train)"
   ]
  },
  {
   "cell_type": "code",
   "execution_count": 44,
   "id": "00d549f6-9ad6-4d73-b67e-bbf3954b536e",
   "metadata": {},
   "outputs": [
    {
     "data": {
      "text/plain": [
       "{'bootstrap': True,\n",
       " 'ccp_alpha': 0.0,\n",
       " 'class_weight': None,\n",
       " 'criterion': 'gini',\n",
       " 'max_depth': None,\n",
       " 'max_features': 14,\n",
       " 'max_leaf_nodes': None,\n",
       " 'max_samples': None,\n",
       " 'min_impurity_decrease': 0.0,\n",
       " 'min_samples_leaf': 1,\n",
       " 'min_samples_split': 19,\n",
       " 'min_weight_fraction_leaf': 0.0,\n",
       " 'n_estimators': 441,\n",
       " 'n_jobs': None,\n",
       " 'oob_score': False,\n",
       " 'random_state': 1,\n",
       " 'verbose': 0,\n",
       " 'warm_start': False}"
      ]
     },
     "metadata": {},
     "output_type": "display_data"
    }
   ],
   "source": [
    "#display the best hyperparameter values\n",
    "best_rscv = tune_rscv.best_estimator_.get_params()\n",
    "display(best_rscv)"
   ]
  },
  {
   "cell_type": "code",
   "execution_count": 45,
   "id": "3f7adee3-f623-483a-a55f-12b36736ac58",
   "metadata": {},
   "outputs": [],
   "source": [
    "# Use the best hyperparameters to create a new model\n",
    "model_rscv = RandomForestClassifier(**best_rscv).fit(X_train_scaled, y_train)"
   ]
  },
  {
   "cell_type": "code",
   "execution_count": 46,
   "id": "8ff7a20a-0542-47f6-91e6-d34d0120a83f",
   "metadata": {},
   "outputs": [
    {
     "data": {
      "text/plain": [
       "array([0, 1, 0, 0, 0, 1, 1, 1, 1, 1], dtype=int64)"
      ]
     },
     "execution_count": 46,
     "metadata": {},
     "output_type": "execute_result"
    }
   ],
   "source": [
    "# Use the testing data to make the model predictions\n",
    "y_pred_rscv = model_rscv.predict(X_test_scaled)\n",
    "y_pred_rscv[:10]"
   ]
  },
  {
   "cell_type": "code",
   "execution_count": 47,
   "id": "1bda5d5e-deac-412c-bc2e-c4d19a4e9d55",
   "metadata": {},
   "outputs": [
    {
     "name": "stdout",
     "output_type": "stream",
     "text": [
      "              precision    recall  f1-score   support\n",
      "\n",
      "           0       0.76      0.79      0.77      1384\n",
      "           1       0.76      0.73      0.75      1287\n",
      "\n",
      "    accuracy                           0.76      2671\n",
      "   macro avg       0.76      0.76      0.76      2671\n",
      "weighted avg       0.76      0.76      0.76      2671\n",
      "\n"
     ]
    }
   ],
   "source": [
    "# Use a classification report to evaluate the model using the predictions and testing data\n",
    "testing_report_rscv = classification_report(y_test, y_pred_rscv)\n",
    "print(testing_report_rscv)"
   ]
  },
  {
   "cell_type": "code",
   "execution_count": 48,
   "id": "c17ddc4b-f856-47d6-9e1d-9721aa5fbf3d",
   "metadata": {},
   "outputs": [
    {
     "data": {
      "text/plain": [
       "0.7615"
      ]
     },
     "execution_count": 48,
     "metadata": {},
     "output_type": "execute_result"
    }
   ],
   "source": [
    "#get accuracy score\n",
    "accuracy_rscv = round(accuracy_score(y_test,y_pred_rscv),4)\n",
    "accuracy_rscv"
   ]
  },
  {
   "cell_type": "markdown",
   "id": "efdd9365-058b-4247-803b-17f2b980de2f",
   "metadata": {},
   "source": [
    "#### 3. Hyperparameters tuning with GridSearchCV"
   ]
  },
  {
   "cell_type": "code",
   "execution_count": 49,
   "id": "60797f85-f9a3-4e00-8418-22cf2d964565",
   "metadata": {},
   "outputs": [],
   "source": [
    "#set up hyperparameter values for grid search\n",
    "gscv_params = { \"n_estimators\":[200,500],\n",
    "                \"max_features\":[10,15,20],\n",
    "                \"min_samples_split\": [20,25,30]\n",
    "              }"
   ]
  },
  {
   "cell_type": "code",
   "execution_count": 50,
   "id": "9e4899c7-29b3-46c9-ba32-ff8e455d8bc3",
   "metadata": {},
   "outputs": [],
   "source": [
    "#set up grid search meta-estimator\n",
    "gscv_search = GridSearchCV(rf,\n",
    "                           gscv_params,\n",
    "                           cv=2,\n",
    "                           scoring = \"accuracy\",\n",
    "                           n_jobs = 1,\n",
    "                           verbose = 3)"
   ]
  },
  {
   "cell_type": "code",
   "execution_count": 51,
   "id": "0ccf31af-aa8c-4945-ba0d-ed2fceb3ced2",
   "metadata": {},
   "outputs": [
    {
     "name": "stdout",
     "output_type": "stream",
     "text": [
      "Fitting 2 folds for each of 18 candidates, totalling 36 fits\n",
      "[CV 1/2] END max_features=10, min_samples_split=20, n_estimators=200;, score=0.775 total time=   1.4s\n",
      "[CV 2/2] END max_features=10, min_samples_split=20, n_estimators=200;, score=0.779 total time=   1.4s\n",
      "[CV 1/2] END max_features=10, min_samples_split=20, n_estimators=500;, score=0.775 total time=   3.6s\n",
      "[CV 2/2] END max_features=10, min_samples_split=20, n_estimators=500;, score=0.777 total time=   3.6s\n",
      "[CV 1/2] END max_features=10, min_samples_split=25, n_estimators=200;, score=0.776 total time=   1.3s\n",
      "[CV 2/2] END max_features=10, min_samples_split=25, n_estimators=200;, score=0.778 total time=   1.3s\n",
      "[CV 1/2] END max_features=10, min_samples_split=25, n_estimators=500;, score=0.777 total time=   3.5s\n",
      "[CV 2/2] END max_features=10, min_samples_split=25, n_estimators=500;, score=0.777 total time=   3.5s\n",
      "[CV 1/2] END max_features=10, min_samples_split=30, n_estimators=200;, score=0.778 total time=   1.3s\n",
      "[CV 2/2] END max_features=10, min_samples_split=30, n_estimators=200;, score=0.776 total time=   1.3s\n",
      "[CV 1/2] END max_features=10, min_samples_split=30, n_estimators=500;, score=0.777 total time=   3.3s\n",
      "[CV 2/2] END max_features=10, min_samples_split=30, n_estimators=500;, score=0.776 total time=   3.3s\n",
      "[CV 1/2] END max_features=15, min_samples_split=20, n_estimators=200;, score=0.773 total time=   1.8s\n",
      "[CV 2/2] END max_features=15, min_samples_split=20, n_estimators=200;, score=0.775 total time=   1.8s\n",
      "[CV 1/2] END max_features=15, min_samples_split=20, n_estimators=500;, score=0.776 total time=   4.5s\n",
      "[CV 2/2] END max_features=15, min_samples_split=20, n_estimators=500;, score=0.776 total time=   4.5s\n",
      "[CV 1/2] END max_features=15, min_samples_split=25, n_estimators=200;, score=0.772 total time=   1.7s\n",
      "[CV 2/2] END max_features=15, min_samples_split=25, n_estimators=200;, score=0.777 total time=   1.7s\n",
      "[CV 1/2] END max_features=15, min_samples_split=25, n_estimators=500;, score=0.775 total time=   4.4s\n",
      "[CV 2/2] END max_features=15, min_samples_split=25, n_estimators=500;, score=0.778 total time=   4.5s\n",
      "[CV 1/2] END max_features=15, min_samples_split=30, n_estimators=200;, score=0.775 total time=   1.6s\n",
      "[CV 2/2] END max_features=15, min_samples_split=30, n_estimators=200;, score=0.777 total time=   1.7s\n",
      "[CV 1/2] END max_features=15, min_samples_split=30, n_estimators=500;, score=0.775 total time=   4.3s\n",
      "[CV 2/2] END max_features=15, min_samples_split=30, n_estimators=500;, score=0.777 total time=   4.3s\n",
      "[CV 1/2] END max_features=20, min_samples_split=20, n_estimators=200;, score=0.774 total time=   2.2s\n",
      "[CV 2/2] END max_features=20, min_samples_split=20, n_estimators=200;, score=0.776 total time=   2.1s\n",
      "[CV 1/2] END max_features=20, min_samples_split=20, n_estimators=500;, score=0.773 total time=   5.6s\n",
      "[CV 2/2] END max_features=20, min_samples_split=20, n_estimators=500;, score=0.775 total time=   5.6s\n",
      "[CV 1/2] END max_features=20, min_samples_split=25, n_estimators=200;, score=0.776 total time=   2.1s\n",
      "[CV 2/2] END max_features=20, min_samples_split=25, n_estimators=200;, score=0.776 total time=   2.0s\n",
      "[CV 1/2] END max_features=20, min_samples_split=25, n_estimators=500;, score=0.775 total time=   5.3s\n",
      "[CV 2/2] END max_features=20, min_samples_split=25, n_estimators=500;, score=0.776 total time=   5.4s\n",
      "[CV 1/2] END max_features=20, min_samples_split=30, n_estimators=200;, score=0.775 total time=   2.0s\n",
      "[CV 2/2] END max_features=20, min_samples_split=30, n_estimators=200;, score=0.776 total time=   2.0s\n",
      "[CV 1/2] END max_features=20, min_samples_split=30, n_estimators=500;, score=0.775 total time=   5.2s\n",
      "[CV 2/2] END max_features=20, min_samples_split=30, n_estimators=500;, score=0.777 total time=   5.3s\n"
     ]
    }
   ],
   "source": [
    "tune_gscv = gscv_search.fit(X_train_scaled, y_train)"
   ]
  },
  {
   "cell_type": "code",
   "execution_count": 52,
   "id": "2d9c073c-2c5e-488e-b5d6-9be7d3f03da7",
   "metadata": {},
   "outputs": [
    {
     "data": {
      "text/plain": [
       "{'max_features': 10, 'min_samples_split': 30, 'n_estimators': 200}"
      ]
     },
     "execution_count": 52,
     "metadata": {},
     "output_type": "execute_result"
    }
   ],
   "source": [
    "#display the best hyperparameter values\n",
    "best_params = gscv_search.best_params_\n",
    "best_params"
   ]
  },
  {
   "cell_type": "code",
   "execution_count": 53,
   "id": "ffb3187c-fa9c-4ec4-8f44-68aa04f2795a",
   "metadata": {},
   "outputs": [],
   "source": [
    "# Use the best hyperparameters to create a new model\n",
    "model_gscv = RandomForestClassifier(**best_params).fit(X_train_scaled, y_train)"
   ]
  },
  {
   "cell_type": "code",
   "execution_count": 54,
   "id": "a31c90fa-ec21-49cd-8bc7-f952f55b4707",
   "metadata": {},
   "outputs": [
    {
     "data": {
      "text/plain": [
       "array([0, 1, 0, 0, 0, 1, 1, 1, 1, 1], dtype=int64)"
      ]
     },
     "execution_count": 54,
     "metadata": {},
     "output_type": "execute_result"
    }
   ],
   "source": [
    "# Use the testing data to make the model predictions\n",
    "y_pred_gscv = model_gscv.predict(X_test_scaled)\n",
    "y_pred_gscv[:10]"
   ]
  },
  {
   "cell_type": "code",
   "execution_count": 55,
   "id": "bf8f6d40-348d-409b-ae9a-56e38ef075d7",
   "metadata": {},
   "outputs": [
    {
     "name": "stdout",
     "output_type": "stream",
     "text": [
      "              precision    recall  f1-score   support\n",
      "\n",
      "           0       0.75      0.79      0.77      1384\n",
      "           1       0.76      0.72      0.74      1287\n",
      "\n",
      "    accuracy                           0.76      2671\n",
      "   macro avg       0.76      0.76      0.76      2671\n",
      "weighted avg       0.76      0.76      0.76      2671\n",
      "\n"
     ]
    }
   ],
   "source": [
    "# Use a classification report to evaluate the model using the predictions and testing data\n",
    "testing_report_gscv = classification_report(y_test, y_pred_gscv)\n",
    "print(testing_report_gscv)"
   ]
  },
  {
   "cell_type": "code",
   "execution_count": 56,
   "id": "3891a1b0-fa02-4c78-823f-a8dea5c93d2b",
   "metadata": {},
   "outputs": [
    {
     "data": {
      "text/plain": [
       "0.7589"
      ]
     },
     "execution_count": 56,
     "metadata": {},
     "output_type": "execute_result"
    }
   ],
   "source": [
    "#get accuracy score\n",
    "accuracy_gscv = round(accuracy_score(y_test,y_pred_gscv),4)\n",
    "accuracy_gscv"
   ]
  },
  {
   "cell_type": "markdown",
   "id": "2ac5de1a-b232-4d08-8800-e073d27bb454",
   "metadata": {
    "tags": []
   },
   "source": [
    "### An alternate ML model: Deep learning model"
   ]
  },
  {
   "cell_type": "code",
   "execution_count": 57,
   "id": "aae4f339-6d66-412b-a8cd-1935e76c7c04",
   "metadata": {},
   "outputs": [
    {
     "data": {
      "text/plain": [
       "54"
      ]
     },
     "execution_count": 57,
     "metadata": {},
     "output_type": "execute_result"
    }
   ],
   "source": [
    "# Define the the number of inputs (features) to the model\n",
    "number_input_features = len(X_train.iloc[0])\n",
    "\n",
    "# Review the number of features\n",
    "number_input_features"
   ]
  },
  {
   "cell_type": "code",
   "execution_count": 58,
   "id": "4fe7e40e-8fd3-4bf0-8ced-330fbc4b84a5",
   "metadata": {},
   "outputs": [],
   "source": [
    "# Define the number of neurons in the output layer\n",
    "number_output_neurons = 1"
   ]
  },
  {
   "cell_type": "code",
   "execution_count": 59,
   "id": "3b368b71-ce5c-46ad-b866-924c4a4a5610",
   "metadata": {},
   "outputs": [
    {
     "data": {
      "text/plain": [
       "27"
      ]
     },
     "execution_count": 59,
     "metadata": {},
     "output_type": "execute_result"
    }
   ],
   "source": [
    "# Define the number of hidden nodes for the first hidden layer\n",
    "hidden_nodes_layer1 = (number_input_features + 1)//2\n",
    "\n",
    "# Review the number hidden nodes in the first layer\n",
    "hidden_nodes_layer1"
   ]
  },
  {
   "cell_type": "code",
   "execution_count": 60,
   "id": "37304c43-29f1-4065-8043-27a4af7eae26",
   "metadata": {},
   "outputs": [
    {
     "data": {
      "text/plain": [
       "14"
      ]
     },
     "execution_count": 60,
     "metadata": {},
     "output_type": "execute_result"
    }
   ],
   "source": [
    "# Define the number of hidden nodes for the second hidden layer\n",
    "hidden_nodes_layer2 = (hidden_nodes_layer1 + 1)//2\n",
    "\n",
    "# Review the number hidden nodes in the second layer\n",
    "hidden_nodes_layer2"
   ]
  },
  {
   "cell_type": "code",
   "execution_count": 61,
   "id": "dd3162ab-5771-43dc-9efa-b1959e59797c",
   "metadata": {},
   "outputs": [],
   "source": [
    "# Create the Sequential model instance\n",
    "nn = Sequential()"
   ]
  },
  {
   "cell_type": "code",
   "execution_count": 62,
   "id": "c1ac53a3-c7b9-4ba9-9e72-20640d62d240",
   "metadata": {},
   "outputs": [],
   "source": [
    "# Add the first hidden layer\n",
    "nn.add(Dense(units = hidden_nodes_layer1, activation = \"relu\", input_dim = number_input_features))"
   ]
  },
  {
   "cell_type": "code",
   "execution_count": 63,
   "id": "18a00971-edd8-4814-917f-f34d05cd777e",
   "metadata": {},
   "outputs": [],
   "source": [
    "# Add the second hidden layer\n",
    "nn.add(Dense(units = hidden_nodes_layer2, activation = \"relu\"))"
   ]
  },
  {
   "cell_type": "code",
   "execution_count": 64,
   "id": "b39f53ac-8baf-40c0-9007-328b24000167",
   "metadata": {},
   "outputs": [],
   "source": [
    "# Add the output layer to the model specifying the number of output neurons and activation function\n",
    "nn.add(Dense(units = number_output_neurons, activation = \"sigmoid\"))"
   ]
  },
  {
   "cell_type": "code",
   "execution_count": 65,
   "id": "c386ac74-8750-41d0-8f44-5521c21bc580",
   "metadata": {},
   "outputs": [
    {
     "name": "stdout",
     "output_type": "stream",
     "text": [
      "Model: \"sequential\"\n",
      "_________________________________________________________________\n",
      " Layer (type)                Output Shape              Param #   \n",
      "=================================================================\n",
      " dense (Dense)               (None, 27)                1485      \n",
      "                                                                 \n",
      " dense_1 (Dense)             (None, 14)                392       \n",
      "                                                                 \n",
      " dense_2 (Dense)             (None, 1)                 15        \n",
      "                                                                 \n",
      "=================================================================\n",
      "Total params: 1,892\n",
      "Trainable params: 1,892\n",
      "Non-trainable params: 0\n",
      "_________________________________________________________________\n"
     ]
    }
   ],
   "source": [
    "# Display the Sequential model summary\n",
    "nn.summary()"
   ]
  },
  {
   "cell_type": "code",
   "execution_count": 66,
   "id": "14bf16ce-35f1-4309-8b26-c13dc793b1bc",
   "metadata": {},
   "outputs": [],
   "source": [
    "# Compile the Sequential model\n",
    "nn.compile(loss = \"binary_crossentropy\", optimizer = \"adam\", metrics =[\"accuracy\"])"
   ]
  },
  {
   "cell_type": "code",
   "execution_count": 67,
   "id": "ad5e8359-f4d6-44c8-854f-2a2d998e4b6e",
   "metadata": {},
   "outputs": [
    {
     "name": "stdout",
     "output_type": "stream",
     "text": [
      "Epoch 1/50\n",
      "22/22 [==============================] - 1s 9ms/step - loss: 0.6592 - accuracy: 0.6105 - val_loss: 0.6753 - val_accuracy: 0.5466\n",
      "Epoch 2/50\n",
      "22/22 [==============================] - 0s 3ms/step - loss: 0.5914 - accuracy: 0.6952 - val_loss: 0.6833 - val_accuracy: 0.4972\n",
      "Epoch 3/50\n",
      "22/22 [==============================] - 0s 2ms/step - loss: 0.5498 - accuracy: 0.7299 - val_loss: 0.7396 - val_accuracy: 0.4893\n",
      "Epoch 4/50\n",
      "22/22 [==============================] - 0s 4ms/step - loss: 0.5234 - accuracy: 0.7458 - val_loss: 0.8218 - val_accuracy: 0.4837\n",
      "Epoch 5/50\n",
      "22/22 [==============================] - 0s 3ms/step - loss: 0.5068 - accuracy: 0.7569 - val_loss: 0.8977 - val_accuracy: 0.4800\n",
      "Epoch 6/50\n",
      "22/22 [==============================] - 0s 3ms/step - loss: 0.4967 - accuracy: 0.7638 - val_loss: 0.9683 - val_accuracy: 0.4759\n",
      "Epoch 7/50\n",
      "22/22 [==============================] - 0s 3ms/step - loss: 0.4906 - accuracy: 0.7690 - val_loss: 1.0121 - val_accuracy: 0.4755\n",
      "Epoch 8/50\n",
      "22/22 [==============================] - 0s 3ms/step - loss: 0.4864 - accuracy: 0.7707 - val_loss: 1.0673 - val_accuracy: 0.4736\n",
      "Epoch 9/50\n",
      "22/22 [==============================] - 0s 2ms/step - loss: 0.4832 - accuracy: 0.7726 - val_loss: 1.1001 - val_accuracy: 0.4729\n",
      "Epoch 10/50\n",
      "22/22 [==============================] - 0s 3ms/step - loss: 0.4804 - accuracy: 0.7749 - val_loss: 1.1371 - val_accuracy: 0.4721\n",
      "Epoch 11/50\n",
      "22/22 [==============================] - 0s 3ms/step - loss: 0.4783 - accuracy: 0.7766 - val_loss: 1.1688 - val_accuracy: 0.4717\n",
      "Epoch 12/50\n",
      "22/22 [==============================] - 0s 2ms/step - loss: 0.4762 - accuracy: 0.7773 - val_loss: 1.1884 - val_accuracy: 0.4714\n",
      "Epoch 13/50\n",
      "22/22 [==============================] - 0s 3ms/step - loss: 0.4746 - accuracy: 0.7794 - val_loss: 1.2093 - val_accuracy: 0.4710\n",
      "Epoch 14/50\n",
      "22/22 [==============================] - 0s 3ms/step - loss: 0.4731 - accuracy: 0.7791 - val_loss: 1.2279 - val_accuracy: 0.4706\n",
      "Epoch 15/50\n",
      "22/22 [==============================] - 0s 3ms/step - loss: 0.4717 - accuracy: 0.7803 - val_loss: 1.2800 - val_accuracy: 0.4699\n",
      "Epoch 16/50\n",
      "22/22 [==============================] - 0s 3ms/step - loss: 0.4703 - accuracy: 0.7811 - val_loss: 1.2794 - val_accuracy: 0.4702\n",
      "Epoch 17/50\n",
      "22/22 [==============================] - 0s 3ms/step - loss: 0.4693 - accuracy: 0.7830 - val_loss: 1.2886 - val_accuracy: 0.4702\n",
      "Epoch 18/50\n",
      "22/22 [==============================] - 0s 2ms/step - loss: 0.4682 - accuracy: 0.7830 - val_loss: 1.3386 - val_accuracy: 0.4699\n",
      "Epoch 19/50\n",
      "22/22 [==============================] - 0s 2ms/step - loss: 0.4671 - accuracy: 0.7822 - val_loss: 1.3479 - val_accuracy: 0.4695\n",
      "Epoch 20/50\n",
      "22/22 [==============================] - 0s 3ms/step - loss: 0.4662 - accuracy: 0.7841 - val_loss: 1.3735 - val_accuracy: 0.4695\n",
      "Epoch 21/50\n",
      "22/22 [==============================] - 0s 2ms/step - loss: 0.4654 - accuracy: 0.7847 - val_loss: 1.3761 - val_accuracy: 0.4695\n",
      "Epoch 22/50\n",
      "22/22 [==============================] - 0s 2ms/step - loss: 0.4647 - accuracy: 0.7846 - val_loss: 1.4232 - val_accuracy: 0.4687\n",
      "Epoch 23/50\n",
      "22/22 [==============================] - 0s 3ms/step - loss: 0.4637 - accuracy: 0.7859 - val_loss: 1.4170 - val_accuracy: 0.4687\n",
      "Epoch 24/50\n",
      "22/22 [==============================] - 0s 3ms/step - loss: 0.4630 - accuracy: 0.7860 - val_loss: 1.4708 - val_accuracy: 0.4684\n",
      "Epoch 25/50\n",
      "22/22 [==============================] - 0s 3ms/step - loss: 0.4623 - accuracy: 0.7867 - val_loss: 1.4583 - val_accuracy: 0.4691\n",
      "Epoch 26/50\n",
      "22/22 [==============================] - 0s 3ms/step - loss: 0.4615 - accuracy: 0.7867 - val_loss: 1.4847 - val_accuracy: 0.4687\n",
      "Epoch 27/50\n",
      "22/22 [==============================] - 0s 3ms/step - loss: 0.4610 - accuracy: 0.7874 - val_loss: 1.4927 - val_accuracy: 0.4691\n",
      "Epoch 28/50\n",
      "22/22 [==============================] - 0s 3ms/step - loss: 0.4604 - accuracy: 0.7874 - val_loss: 1.5052 - val_accuracy: 0.4684\n",
      "Epoch 29/50\n",
      "22/22 [==============================] - 0s 2ms/step - loss: 0.4594 - accuracy: 0.7881 - val_loss: 1.5386 - val_accuracy: 0.4684\n",
      "Epoch 30/50\n",
      "22/22 [==============================] - 0s 3ms/step - loss: 0.4591 - accuracy: 0.7886 - val_loss: 1.5656 - val_accuracy: 0.4680\n",
      "Epoch 31/50\n",
      "22/22 [==============================] - 0s 2ms/step - loss: 0.4585 - accuracy: 0.7888 - val_loss: 1.5627 - val_accuracy: 0.4680\n",
      "Epoch 32/50\n",
      "22/22 [==============================] - 0s 3ms/step - loss: 0.4579 - accuracy: 0.7899 - val_loss: 1.5905 - val_accuracy: 0.4680\n",
      "Epoch 33/50\n",
      "22/22 [==============================] - 0s 3ms/step - loss: 0.4571 - accuracy: 0.7898 - val_loss: 1.6040 - val_accuracy: 0.4680\n",
      "Epoch 34/50\n",
      "22/22 [==============================] - 0s 3ms/step - loss: 0.4566 - accuracy: 0.7903 - val_loss: 1.5986 - val_accuracy: 0.4680\n",
      "Epoch 35/50\n",
      "22/22 [==============================] - 0s 3ms/step - loss: 0.4562 - accuracy: 0.7903 - val_loss: 1.6196 - val_accuracy: 0.4680\n",
      "Epoch 36/50\n",
      "22/22 [==============================] - 0s 3ms/step - loss: 0.4553 - accuracy: 0.7911 - val_loss: 1.6428 - val_accuracy: 0.4680\n",
      "Epoch 37/50\n",
      "22/22 [==============================] - 0s 3ms/step - loss: 0.4550 - accuracy: 0.7932 - val_loss: 1.7032 - val_accuracy: 0.4672\n",
      "Epoch 38/50\n",
      "22/22 [==============================] - 0s 3ms/step - loss: 0.4542 - accuracy: 0.7910 - val_loss: 1.6465 - val_accuracy: 0.4680\n",
      "Epoch 39/50\n",
      "22/22 [==============================] - 0s 3ms/step - loss: 0.4540 - accuracy: 0.7919 - val_loss: 1.6865 - val_accuracy: 0.4680\n",
      "Epoch 40/50\n",
      "22/22 [==============================] - 0s 3ms/step - loss: 0.4533 - accuracy: 0.7936 - val_loss: 1.6990 - val_accuracy: 0.4672\n",
      "Epoch 41/50\n",
      "22/22 [==============================] - 0s 3ms/step - loss: 0.4527 - accuracy: 0.7940 - val_loss: 1.6935 - val_accuracy: 0.4680\n",
      "Epoch 42/50\n",
      "22/22 [==============================] - 0s 3ms/step - loss: 0.4522 - accuracy: 0.7944 - val_loss: 1.7479 - val_accuracy: 0.4676\n",
      "Epoch 43/50\n",
      "22/22 [==============================] - 0s 3ms/step - loss: 0.4519 - accuracy: 0.7950 - val_loss: 1.7594 - val_accuracy: 0.4676\n",
      "Epoch 44/50\n",
      "22/22 [==============================] - 0s 3ms/step - loss: 0.4513 - accuracy: 0.7943 - val_loss: 1.7311 - val_accuracy: 0.4676\n",
      "Epoch 45/50\n",
      "22/22 [==============================] - 0s 2ms/step - loss: 0.4504 - accuracy: 0.7941 - val_loss: 1.7680 - val_accuracy: 0.4672\n",
      "Epoch 46/50\n",
      "22/22 [==============================] - 0s 3ms/step - loss: 0.4499 - accuracy: 0.7947 - val_loss: 1.7664 - val_accuracy: 0.4676\n",
      "Epoch 47/50\n",
      "22/22 [==============================] - 0s 3ms/step - loss: 0.4495 - accuracy: 0.7960 - val_loss: 1.8184 - val_accuracy: 0.4661\n",
      "Epoch 48/50\n",
      "22/22 [==============================] - 0s 3ms/step - loss: 0.4492 - accuracy: 0.7964 - val_loss: 1.8156 - val_accuracy: 0.4672\n",
      "Epoch 49/50\n",
      "22/22 [==============================] - 0s 2ms/step - loss: 0.4485 - accuracy: 0.7958 - val_loss: 1.8058 - val_accuracy: 0.4669\n",
      "Epoch 50/50\n",
      "22/22 [==============================] - 0s 2ms/step - loss: 0.4479 - accuracy: 0.7967 - val_loss: 1.8080 - val_accuracy: 0.4669\n"
     ]
    },
    {
     "data": {
      "text/plain": [
       "<keras.callbacks.History at 0x1e792576730>"
      ]
     },
     "execution_count": 67,
     "metadata": {},
     "output_type": "execute_result"
    }
   ],
   "source": [
    "# Fit the model using 50 epochs and the training data\n",
    "epochs = 50\n",
    "batch_size = 1000\n",
    "\n",
    "nn.fit(X_train_scaled, y_train, validation_data = (X_val, y_val),\n",
    "       epochs = epochs, batch_size = batch_size)"
   ]
  },
  {
   "cell_type": "code",
   "execution_count": 68,
   "id": "725becc1-24c3-481f-bb26-3b43f4cd6da8",
   "metadata": {},
   "outputs": [
    {
     "name": "stdout",
     "output_type": "stream",
     "text": [
      "84/84 [==============================] - 0s 953us/step\n"
     ]
    },
    {
     "data": {
      "text/plain": [
       "array([[0],\n",
       "       [1],\n",
       "       [0],\n",
       "       [0],\n",
       "       [0],\n",
       "       [1],\n",
       "       [1],\n",
       "       [1],\n",
       "       [1],\n",
       "       [1]], dtype=int64)"
      ]
     },
     "execution_count": 68,
     "metadata": {},
     "output_type": "execute_result"
    }
   ],
   "source": [
    "# Use the testing data to make the model predictions\n",
    "y_pred_nn = (nn.predict(X_test_scaled) > 0.5).astype(\"int64\")\n",
    "\n",
    "# Review the model's predicted values\n",
    "y_pred_nn[:10]"
   ]
  },
  {
   "cell_type": "code",
   "execution_count": 69,
   "id": "1de70b4c-fbf3-45af-a020-336c1a85de99",
   "metadata": {},
   "outputs": [
    {
     "name": "stdout",
     "output_type": "stream",
     "text": [
      "              precision    recall  f1-score   support\n",
      "\n",
      "           0       0.75      0.79      0.77      1384\n",
      "           1       0.76      0.72      0.74      1287\n",
      "\n",
      "    accuracy                           0.75      2671\n",
      "   macro avg       0.75      0.75      0.75      2671\n",
      "weighted avg       0.75      0.75      0.75      2671\n",
      "\n"
     ]
    }
   ],
   "source": [
    "# Use a classification report to evaluate the model using the predictions and testing data\n",
    "testing_report_nn = classification_report(y_test, y_pred_nn)\n",
    "print(testing_report_nn)"
   ]
  },
  {
   "cell_type": "code",
   "execution_count": 70,
   "id": "d2d98b1f-65f3-40c9-98b7-f717afb48511",
   "metadata": {},
   "outputs": [
    {
     "data": {
      "text/plain": [
       "0.7537"
      ]
     },
     "execution_count": 70,
     "metadata": {},
     "output_type": "execute_result"
    }
   ],
   "source": [
    "#get accuracy score\n",
    "accuracy_nn = round(accuracy_score(y_test,y_pred_nn),4)\n",
    "accuracy_nn"
   ]
  },
  {
   "cell_type": "code",
   "execution_count": null,
   "id": "4a0c2253-868a-4d5a-8468-8852ff986eff",
   "metadata": {},
   "outputs": [],
   "source": []
  }
 ],
 "metadata": {
  "kernelspec": {
   "display_name": "Python 3 (ipykernel)",
   "language": "python",
   "name": "python3"
  },
  "language_info": {
   "codemirror_mode": {
    "name": "ipython",
    "version": 3
   },
   "file_extension": ".py",
   "mimetype": "text/x-python",
   "name": "python",
   "nbconvert_exporter": "python",
   "pygments_lexer": "ipython3",
   "version": "3.9.13"
  }
 },
 "nbformat": 4,
 "nbformat_minor": 5
}
