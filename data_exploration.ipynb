{
 "cells": [
  {
   "cell_type": "markdown",
   "id": "887fb0f9-4ca9-41b2-bb59-84472354137b",
   "metadata": {},
   "source": [
    "## Seasonal flu vaccines\n",
    "This exercise"
   ]
  },
  {
   "cell_type": "code",
   "execution_count": 3,
   "id": "0cafb953-026c-45f9-9b7d-4efcb6a6a7eb",
   "metadata": {},
   "outputs": [],
   "source": [
    "#Import required libraries and modules\n",
    "import pandas as pd\n",
    "import hvplot.pandas\n",
    "import matplotlib.pyplot as plt\n",
    "\n",
    "%matplotlib inline"
   ]
  },
  {
   "cell_type": "markdown",
   "id": "16148b70-8d73-4bb4-a9e0-4e000dcf3c82",
   "metadata": {},
   "source": [
    "### Part 1: Data exploration\n"
   ]
  },
  {
   "cell_type": "code",
   "execution_count": null,
   "id": "3d2baead-9961-4237-9780-e0daf1715c4e",
   "metadata": {},
   "outputs": [],
   "source": []
  }
 ],
 "metadata": {
  "kernelspec": {
   "display_name": "dev",
   "language": "python",
   "name": "dev"
  },
  "language_info": {
   "codemirror_mode": {
    "name": "ipython",
    "version": 3
   },
   "file_extension": ".py",
   "mimetype": "text/x-python",
   "name": "python",
   "nbconvert_exporter": "python",
   "pygments_lexer": "ipython3",
   "version": "3.9.13"
  }
 },
 "nbformat": 4,
 "nbformat_minor": 5
}
